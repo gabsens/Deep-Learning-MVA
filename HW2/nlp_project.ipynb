{
 "cells": [
  {
   "cell_type": "markdown",
   "metadata": {},
   "source": [
    "# Deep Learning for NLP - Project"
   ]
  },
  {
   "cell_type": "markdown",
   "metadata": {},
   "source": [
    "RULES:\n",
    "\n",
    "* Do not create any additional cell\n",
    "\n",
    "* Fill in the blanks\n",
    "\n",
    "* All cells should be runnable (modulo trivial compatibility bugs that we'd fix)\n",
    "\n",
    "* 4 / 20 points will be allocated to the clarity of your code\n",
    "\n",
    "* Efficient code will have a bonus\n",
    "\n",
    "DELIVERABLE:\n",
    "\n",
    "* this notebook\n",
    "* the predictions of the SST test set\n",
    "\n",
    "DO NOT INCLUDE THE DATASETS IN THE DELIVERABLE.."
   ]
  },
  {
   "cell_type": "code",
   "execution_count": 1,
   "metadata": {},
   "outputs": [],
   "source": [
    "import io\n",
    "import os\n",
    "import numpy as np\n",
    "import scipy\n",
    "import sklearn"
   ]
  },
  {
   "cell_type": "code",
   "execution_count": 2,
   "metadata": {},
   "outputs": [],
   "source": [
    "PATH_TO_DATA = \"./data/\""
   ]
  },
  {
   "cell_type": "markdown",
   "metadata": {},
   "source": [
    "# 1) Monolingual (English) word embeddings "
   ]
  },
  {
   "cell_type": "code",
   "execution_count": 3,
   "metadata": {},
   "outputs": [],
   "source": [
    "class Word2vec():\n",
    "    def __init__(self, fname, nmax=100000):\n",
    "        self.load_wordvec(fname, nmax)\n",
    "        self.word2id = {k: v for k, v in zip(self.word2vec.keys(), range(nmax))}\n",
    "        self.id2word = {v: k for k, v in self.word2id.items()}\n",
    "        self.embeddings = np.array(self.word2vec.values())\n",
    "    \n",
    "    def load_wordvec(self, fname, nmax):\n",
    "        self.word2vec = {}\n",
    "        with io.open(fname, encoding='utf-8') as f:\n",
    "            next(f)\n",
    "            for i, line in enumerate(f):\n",
    "                word, vec = line.split(' ', 1)\n",
    "                self.word2vec[word] = np.fromstring(vec, sep=' ')\n",
    "                if i == (nmax - 1):\n",
    "                    break\n",
    "        print('Loaded %s pretrained word vectors' % (len(self.word2vec)))\n",
    "    \n",
    "    def most_similar(self, w, K=5):\n",
    "        # K most similar words: self.score  -  np.argsort \n",
    "        scores = [self.score(w, self.id2word[id]) for id in range(len(w2v.word2vec.keys()))]\n",
    "        ids = list(np.flip(np.argsort(scores)))\n",
    "        ids.remove(self.word2id[w])  #w is most similar to itself, so we remove it\n",
    "        return [self.id2word[id] for id in ids[:K]]\n",
    "\n",
    "    def score(self, w1, w2):\n",
    "        # cosine similarity: np.dot  -  np.linalg.norm\n",
    "        v1, v2 = self.word2vec[w1], self.word2vec[w2]\n",
    "        return np.dot(v1,v2)/(np.linalg.norm(v1)*np.linalg.norm(v2))\n"
   ]
  },
  {
   "cell_type": "code",
   "execution_count": 4,
   "metadata": {},
   "outputs": [
    {
     "name": "stdout",
     "output_type": "stream",
     "text": [
      "Loaded 200000 pretrained word vectors\n",
      "cat dog 0.671683666279249\n",
      "dog pet 0.6842064029669219\n",
      "dogs cats 0.7074389328052404\n",
      "paris france 0.7775108541288563\n",
      "germany berlin 0.7420295235998394\n",
      "['cats', 'kitty', 'kitten', 'feline', 'kitties']\n",
      "['dogs', 'puppy', 'Dog', 'doggie', 'canine']\n",
      "['dog', 'pooches', 'Dogs', 'doggies', 'canines']\n",
      "['france', 'Paris', 'parisian', 'london', 'berlin']\n",
      "['austria', 'europe', 'german', 'berlin', 'poland']\n"
     ]
    }
   ],
   "source": [
    "w2v = Word2vec(os.path.join(PATH_TO_DATA, 'crawl-300d-200k.vec'), nmax=200000)\n",
    "\n",
    "# You will be evaluated on the output of the following:\n",
    "for w1, w2 in zip(('cat', 'dog', 'dogs', 'paris', 'germany'), ('dog', 'pet', 'cats', 'france', 'berlin')):\n",
    "    print(w1, w2, w2v.score(w1, w2))\n",
    "for w1 in ['cat', 'dog', 'dogs', 'paris', 'germany']:\n",
    "    print(w2v.most_similar(w1))"
   ]
  },
  {
   "cell_type": "code",
   "execution_count": 7,
   "metadata": {},
   "outputs": [],
   "source": [
    "class BoV():\n",
    "    def __init__(self, w2v):\n",
    "        self.w2v = w2v\n",
    "    \n",
    "    def encode(self, sentences, idf=False):\n",
    "        # takes a list of sentences, outputs a numpy array of sentence embeddings\n",
    "        # see TP1 for help\n",
    "        sentemb = []\n",
    "        for sent in sentences:\n",
    "            if sent:  #checks if sentence is not an empty list\n",
    "                if idf is False:\n",
    "                    sentemb.append(np.mean(np.transpose([self.w2v.word2vec[w] for w in sent]), axis=1))\n",
    "                else:\n",
    "                    sentemb.append(np.average([self.w2v.word2vec[w] for w in sent], \n",
    "                                          weights=[idf[w] for w in sent], axis=0))\n",
    "            else:  #if sentence is empty list we set its embedding to 0\n",
    "                sentemb.append(np.zeros(300))\n",
    "        return np.vstack(sentemb)\n",
    "\n",
    "    def most_similar(self, s, sentences, idf=False, K=5):\n",
    "        # get most similar sentences and **print** them\n",
    "        keys = self.encode(sentences, idf)\n",
    "        query = self.encode([s], idf)\n",
    "        scores = [self.score(s, s2, idf) for s2 in sentences]\n",
    "        ids = np.flip(np.argsort(scores))\n",
    "        print('Query sentence: '+ ' '.join(s)+'\\n')\n",
    "        print('Top '+str(K)+' most similar sentences:')\n",
    "        for id in ids[1:K+1]:\n",
    "            print(' '.join(sentences[id]))\n",
    "\n",
    "\n",
    "    def score(self, s1, s2, idf=False):\n",
    "        # cosine similarity: use   np.dot  and  np.linalg.norm\n",
    "        v1, v2 = self.encode([s1,s2], idf)\n",
    "        return np.dot(v1,v2)/(np.linalg.norm(v1)*np.linalg.norm(v2))\n",
    "    \n",
    "    def build_idf(self, sentences):\n",
    "        # build the idf dictionary: associate each word to its idf value\n",
    "        idf = {}\n",
    "        for sent in sentences:\n",
    "            for w in set(sent):\n",
    "                idf[w] = idf.get(w, 0) + 1\n",
    "        for w in idf.keys():\n",
    "            idf[w] = max(1, np.log10(len(sentences) / (idf[w])))\n",
    "        return idf\n"
   ]
  },
  {
   "cell_type": "code",
   "execution_count": 6,
   "metadata": {},
   "outputs": [
    {
     "name": "stdout",
     "output_type": "stream",
     "text": [
      "Loaded 200000 pretrained word vectors\n",
      "Query sentence: 1 smiling african american boy .\n",
      "\n",
      "Top 5 most similar sentences:\n",
      "an african american man smiling .\n",
      "a little african american boy and girl looking up .\n",
      "an american woman standing behind two small african american children .\n",
      "an african american man is sitting .\n",
      "a girl in black hat holding an african american baby .\n",
      "\n",
      "Similarity score between \"1 man singing and 1 man playing a saxophone in a concert .\" and \"10 people venture out to go skiing .\":\n",
      "With IDF weighting:\n",
      "\n",
      "Query sentence: 1 smiling african american boy .\n",
      "\n",
      "Top 5 most similar sentences:\n",
      "an african american man smiling .\n",
      "an african american man is sitting .\n",
      "a little african american boy and girl looking up .\n",
      "an american woman standing behind two small african american children .\n",
      "a girl in black hat holding an african american baby .\n"
     ]
    },
    {
     "data": {
      "text/plain": [
       "0.47514508753687823"
      ]
     },
     "execution_count": 6,
     "metadata": {},
     "output_type": "execute_result"
    }
   ],
   "source": [
    "w2v = Word2vec(os.path.join(PATH_TO_DATA, 'crawl-300d-200k.vec'), nmax=200000)\n",
    "s2v = BoV(w2v)\n",
    "\n",
    "# Load sentences in \"PATH_TO_DATA/sentences.txt\"\n",
    "sentences = []\n",
    "with io.open(PATH_TO_DATA+'sentences.txt', encoding='utf-8') as f:\n",
    "    for line in f:\n",
    "        # we clear every sentence of words that do not appear in crawl-300d-200k.vec\n",
    "        sentence = [word for word in line.split(' ') if word in w2v.word2vec]\n",
    "        sentences.append(sentence)\n",
    "        \n",
    "# You will be evaluated on the output of the following:\n",
    "s2v.most_similar('' if not sentences else sentences[10], sentences)  # BoV-mean\n",
    "print('\\nSimilarity score between '+'\"'+' '.join(sentences[7])+'\" and \"'+' '.join(sentences[13])+'\":')\n",
    "s2v.score('' if not sentences else sentences[7], '' if not sentences else sentences[13])\n",
    "\n",
    "# Build idf scores for each word\n",
    "idf = s2v.build_idf(sentences)\n",
    "print(\"With IDF weighting:\\n\")\n",
    "s2v.most_similar('' if not sentences else sentences[10], sentences, idf)  # BoV-idf\n",
    "s2v.score('' if not sentences else sentences[7], '' if not sentences else sentences[13], idf)"
   ]
  },
  {
   "cell_type": "markdown",
   "metadata": {},
   "source": [
    "# 2) Multilingual (English-French) word embeddings"
   ]
  },
  {
   "cell_type": "markdown",
   "metadata": {},
   "source": [
    "Let's consider a bilingual dictionary of size V_a (e.g French-English).\n",
    "\n",
    "Let's define **X** and **Y** the **French** and **English** matrices.\n",
    "\n",
    "They contain the embeddings associated to the words in the bilingual dictionary.\n",
    "\n",
    "We want to find a **mapping W** that will project the source word space (e.g French) to the target word space (e.g English).\n",
    "\n",
    "Procrustes : **W\\* = argmin || W.X - Y ||  s.t  W^T.W = Id**\n",
    "has a closed form solution:\n",
    "**W = U.V^T  where  U.Sig.V^T = SVD(Y.X^T)**\n",
    "\n",
    "In what follows, you are asked to: "
   ]
  },
  {
   "cell_type": "code",
   "execution_count": 7,
   "metadata": {},
   "outputs": [
    {
     "name": "stdout",
     "output_type": "stream",
     "text": [
      "Loaded 50000 pretrained word vectors\n",
      "Loaded 50000 pretrained word vectors\n"
     ]
    }
   ],
   "source": [
    "# 1 - Download and load 50k first vectors of\n",
    "#     https://s3-us-west-1.amazonaws.com/fasttext-vectors/wiki.en.vec\n",
    "#     https://s3-us-west-1.amazonaws.com/fasttext-vectors/wiki.fr.vec\n",
    "\n",
    "# TYPE CODE HERE\n",
    "w2v_en = Word2vec(os.path.join(PATH_TO_DATA, 'wiki.en.vec'), nmax=50000)\n",
    "w2v_fr = Word2vec(os.path.join(PATH_TO_DATA, 'wiki.fr.vec'), nmax=50000)"
   ]
  },
  {
   "cell_type": "code",
   "execution_count": 8,
   "metadata": {},
   "outputs": [],
   "source": [
    "# 2 - Get words that appear in both vocabs (= identical character strings)\n",
    "#     Use it to create the matrix X and Y (of aligned embeddings for these words)\n",
    "\n",
    "# TYPE CODE HERE\n",
    "#words are columns in the matrix\n",
    "common_words = [w for w in w2v_en.word2vec.keys() if w in w2v_fr.word2vec.keys()]\n",
    "X = np.concatenate([w2v_fr.word2vec[w].reshape(1,-1) for w in common_words], axis=0).T \n",
    "Y = np.concatenate([w2v_en.word2vec[w].reshape(1,-1) for w in common_words], axis=0).T "
   ]
  },
  {
   "cell_type": "code",
   "execution_count": 9,
   "metadata": {},
   "outputs": [],
   "source": [
    "# 3 - Solve the Procrustes using the scipy package and: scipy.linalg.svd() and get the optimal W\n",
    "#     Now W*French_vector is in the same space as English_vector\n",
    "\n",
    "# TYPE CODE HERE\n",
    "import scipy.linalg\n",
    "U, s, Vh = scipy.linalg.svd(Y.dot(X.T))\n",
    "W = U.dot(Vh)"
   ]
  },
  {
   "cell_type": "code",
   "execution_count": 10,
   "metadata": {},
   "outputs": [
    {
     "name": "stdout",
     "output_type": "stream",
     "text": [
      "French to English :\n",
      "gilet: ['trousers', 'blouse', 'straps', 'jacket', 'sleeves']\n",
      "jaune: ['yellow', 'yellowish', 'reddish', 'pinkish', 'bluish']\n",
      "président: ['president', 'chairman', 'vice', 'chairmanship', 'presidents']\n",
      "manifestation: ['demonstrations', 'protests', 'protest', 'demonstration', 'demonstrators']\n",
      "police: ['police', 'policemen', 'lapd', 'detectives', 'nypd']\n",
      "travail: ['work', 'travail', 'unskilled', 'employment', 'labor']\n",
      "chômage: ['unemployment', 'unemployed', 'incomes', 'wages', 'earners']\n",
      "\n",
      "English to French :\n",
      "depression: ['dépression', 'dépressions', 'dépressif', 'ouragan', 'cyclonique']\n",
      "anxiety: ['anxiété', 'stress', 'anxieux', 'addiction', 'schizophrénie']\n",
      "loneliness: ['mélancolie', 'solitude', 'tristesse', 'souffrance', 'désespoir']\n"
     ]
    }
   ],
   "source": [
    "# 4 - After alignment with W, give examples of English nearest neighbors of some French words (and vice versa)\n",
    "#     You will be evaluated on that part and the code above\n",
    "\n",
    "# TYPE CODE HERE\n",
    "def score(v1, v2):\n",
    "    return np.dot(v1,v2)/(np.linalg.norm(v1)*np.linalg.norm(v2))\n",
    "    \n",
    "def most_similar_word(w, w2v_1, w2v_2, embedding):\n",
    "    vec_1 = w2v_1.word2vec[w]\n",
    "    vec_2 = embedding.dot(vec_1)\n",
    "    scores = [score(vec_2, w2v_2.word2vec[w2v_2.id2word[id]]) for id in range(len(w2v_2.word2vec.keys()))]\n",
    "    ids = list(np.flip(np.argsort(scores)))\n",
    "    return [w2v_2.id2word[id] for id in ids[:5]]\n",
    "\n",
    "\n",
    "\n",
    "print(\"French to English :\")\n",
    "for w in [\"gilet\", \"jaune\", \"président\", \"manifestation\", \"police\", \"travail\", \"chômage\"]:\n",
    "    w2 = most_similar_word(w, w2v_fr, w2v_en, W)\n",
    "    print(w+':', w2)\n",
    "    \n",
    "print(\"\\nEnglish to French :\")\n",
    "for w in [\"depression\", \"anxiety\", \"loneliness\"]:\n",
    "    w2 = most_similar_word(w, w2v_en, w2v_fr, W.T)\n",
    "    print(w+':', w2)"
   ]
  },
  {
   "cell_type": "markdown",
   "metadata": {},
   "source": [
    "If you want to dive deeper on this subject: https://github.com/facebookresearch/MUSE"
   ]
  },
  {
   "cell_type": "markdown",
   "metadata": {},
   "source": [
    "# 3) Sentence classification with BoV and scikit-learn"
   ]
  },
  {
   "cell_type": "code",
   "execution_count": 263,
   "metadata": {},
   "outputs": [
    {
     "name": "stdout",
     "output_type": "stream",
     "text": [
      "Loaded 200000 pretrained word vectors\n"
     ]
    }
   ],
   "source": [
    "# 1 - Load train/dev/test of Stanford Sentiment TreeBank (SST)\n",
    "#     (https://nlp.stanford.edu/~socherr/EMNLP2013_RNTN.pdf)\n",
    "\n",
    "# TYPE CODE HERE\n",
    "w2v = Word2vec(os.path.join(PATH_TO_DATA, 'crawl-300d-200k.vec'), nmax=200000)\n",
    "s2v = BoV(w2v)\n",
    "\n",
    "# Load train sentences\n",
    "train_raw = []\n",
    "Y_train = []\n",
    "with io.open(PATH_TO_DATA+'SST/stsa.fine.train', encoding='utf-8') as f:\n",
    "    for line in f:\n",
    "        splitted = line.split(' ')\n",
    "        Y_train.append(int(splitted[0]))\n",
    "        sentence = [word for word in splitted[1:] if word in w2v.word2vec]\n",
    "        train_raw.append(sentence)\n",
    "\n",
    "# Load dev sentences\n",
    "dev_raw = []\n",
    "Y_dev = []\n",
    "with io.open(PATH_TO_DATA+'SST/stsa.fine.dev', encoding='utf-8') as f:\n",
    "    for line in f:\n",
    "        splitted = line.split(' ')\n",
    "        Y_dev.append(int(splitted[0]))\n",
    "        sentence = [word for word in splitted[1:] if word in w2v.word2vec]\n",
    "        dev_raw.append(sentence)\n",
    "        \n",
    "# Load test sentences\n",
    "test_raw = []\n",
    "with io.open(PATH_TO_DATA+'SST/stsa.fine.test.X', encoding='utf-8') as f:\n",
    "    for line in f:\n",
    "        sentence = [word for word in line.split(' ') if word in w2v.word2vec]\n",
    "        test_raw.append(sentence)"
   ]
  },
  {
   "cell_type": "code",
   "execution_count": 264,
   "metadata": {},
   "outputs": [],
   "source": [
    "# 2 - Encode sentences with the BoV model above\n",
    "\n",
    "# TYPE CODE HERE\n",
    "train_bov = s2v.encode(train_raw, False)\n",
    "idf_train = s2v.build_idf(train_raw)\n",
    "train_bov_idf = s2v.encode(train_raw, idf_train)\n",
    "\n",
    "dev_bov = s2v.encode(dev_raw, False)\n",
    "idf_dev = s2v.build_idf(train_raw + dev_raw)\n",
    "dev_bov_idf = s2v.encode(dev_raw, idf_dev)\n",
    "\n",
    "test_bov = s2v.encode(test_raw, False)\n",
    "idf_test = s2v.build_idf(train_raw + dev_raw + test_raw)\n",
    "test_bov_idf = s2v.encode(test_raw, idf_test)"
   ]
  },
  {
   "cell_type": "code",
   "execution_count": 265,
   "metadata": {},
   "outputs": [
    {
     "data": {
      "image/png": "[encoded data removed]",
      "text/plain": [
       "<Figure size 720x360 with 1 Axes>"
      ]
     },
     "metadata": {
      "needs_background": "light"
     },
     "output_type": "display_data"
    },
    {
     "name": "stdout",
     "output_type": "stream",
     "text": [
      "Accuracy on dev set with tuned parameter: 0.4305177111716621\n",
      "Accuracy on dev set with tuned parameter and idf: 0.4178019981834696\n"
     ]
    }
   ],
   "source": [
    "# 3 - Learn Logistic Regression on top of sentence embeddings using scikit-learn\n",
    "#     (consider tuning the L2 regularization on the dev set)\n",
    "\n",
    "# TYPE CODE HERE\n",
    "from sklearn.linear_model import LogisticRegression\n",
    "import matplotlib.pyplot as plt\n",
    "\n",
    "# without idf\n",
    "Cs = np.linspace(10**(-2), 2, 20)\n",
    "acc_train, acc_dev = [], []\n",
    "for C in Cs:\n",
    "    clf = LogisticRegression(penalty=\"l2\", C=C, solver=\"liblinear\", multi_class='ovr')\n",
    "    clf.fit(train_bov, Y_train)\n",
    "    acc_train.append(clf.score(train_bov, Y_train))\n",
    "    acc_dev.append(clf.score(dev_bov, Y_dev))\n",
    "\n",
    "# with idf\n",
    "acc_train_idf, acc_dev_idf = [], []\n",
    "for C in Cs:\n",
    "    clf = LogisticRegression(penalty=\"l2\", C=C, solver=\"liblinear\", multi_class='ovr')\n",
    "    clf.fit(train_bov_idf, Y_train)\n",
    "    acc_train_idf.append(clf.score(train_bov_idf, Y_train))\n",
    "    acc_dev_idf.append(clf.score(dev_bov_idf, Y_dev))\n",
    "    \n",
    "plt.figure(figsize=(10,5))\n",
    "plt.plot(Cs, acc_train, '.-', label='train set, no idf')\n",
    "plt.plot(Cs, acc_train_idf, '.-', label='train set, with idf')\n",
    "plt.plot(Cs, acc_dev, '.-', label='dev set, no idf')\n",
    "plt.plot(Cs, acc_dev_idf, '.-', label='dev set, with idf')\n",
    "plt.legend(loc='lower right')\n",
    "plt.xlabel(\"L2 regularization parameter\")\n",
    "plt.ylabel(\"Accuracy\")\n",
    "plt.show()\n",
    "\n",
    "C_best = Cs[np.argmax(acc_dev)]\n",
    "C_best_idf = Cs[np.argmax(acc_dev)]\n",
    "clf = LogisticRegression(penalty=\"l2\", C=C_best, solver=\"liblinear\", multi_class='ovr')\n",
    "clf_idf = LogisticRegression(penalty=\"l2\", C=C_best_idf, solver=\"liblinear\", multi_class='ovr')\n",
    "clf.fit(train_bov, Y_train)\n",
    "clf_idf.fit(train_bov_idf, Y_train)\n",
    "print('Accuracy on dev set with tuned parameter:', clf.score(dev_bov, Y_dev))\n",
    "print('Accuracy on dev set with tuned parameter and idf:', clf_idf.score(dev_bov_idf, Y_dev))"
   ]
  },
  {
   "cell_type": "code",
   "execution_count": 198,
   "metadata": {},
   "outputs": [],
   "source": [
    "# 4 - Produce 2210 predictions for the test set (in the same order). One line = one prediction (=0,1,2,3,4).\n",
    "#     Attach the output file \"logreg_bov_y_test_sst.txt\" to your deliverable.\n",
    "#     You will be evaluated on the results of the test set.\n",
    "\n",
    "# TYPE CODE HERE\n",
    "Y_pred = clf.predict(test_bov)\n",
    "np.savetxt('logreg_bov_y_test_sst.txt', Y_pred, fmt='%d', delimiter='\\n') #!!remember to delete last newline!!"
   ]
  },
  {
   "cell_type": "code",
   "execution_count": 231,
   "metadata": {},
   "outputs": [
    {
     "name": "stdout",
     "output_type": "stream",
     "text": [
      "[0]\ttrain-merror:0.591292\teval-merror:0.653043\n",
      "Multiple eval metrics have been passed: 'eval-merror' will be used for early stopping.\n",
      "\n",
      "Will train until eval-merror hasn't improved in 10 rounds.\n",
      "[1]\ttrain-merror:0.585323\teval-merror:0.643052\n",
      "[2]\ttrain-merror:0.580875\teval-merror:0.641235\n",
      "[3]\ttrain-merror:0.582982\teval-merror:0.642143\n",
      "[4]\ttrain-merror:0.574789\teval-merror:0.64396\n",
      "[5]\ttrain-merror:0.57514\teval-merror:0.645777\n",
      "[6]\ttrain-merror:0.57081\teval-merror:0.640327\n",
      "[7]\ttrain-merror:0.567065\teval-merror:0.637602\n",
      "[8]\ttrain-merror:0.567065\teval-merror:0.642143\n",
      "[9]\ttrain-merror:0.564607\teval-merror:0.634877\n",
      "[10]\ttrain-merror:0.561915\teval-merror:0.637602\n",
      "[11]\ttrain-merror:0.56133\teval-merror:0.637602\n",
      "[12]\ttrain-merror:0.562383\teval-merror:0.63851\n",
      "[13]\ttrain-merror:0.559925\teval-merror:0.631244\n",
      "[14]\ttrain-merror:0.557584\teval-merror:0.62852\n",
      "[15]\ttrain-merror:0.556882\teval-merror:0.630336\n",
      "[16]\ttrain-merror:0.555243\teval-merror:0.625795\n",
      "[17]\ttrain-merror:0.555946\teval-merror:0.627611\n",
      "[18]\ttrain-merror:0.55419\teval-merror:0.627611\n",
      "[19]\ttrain-merror:0.552903\teval-merror:0.627611\n",
      "[20]\ttrain-merror:0.551732\teval-merror:0.622162\n",
      "[21]\ttrain-merror:0.550913\teval-merror:0.625795\n",
      "[22]\ttrain-merror:0.552434\teval-merror:0.62852\n",
      "[23]\ttrain-merror:0.55103\teval-merror:0.626703\n",
      "[24]\ttrain-merror:0.549274\teval-merror:0.623978\n",
      "[25]\ttrain-merror:0.548572\teval-merror:0.625795\n",
      "[26]\ttrain-merror:0.548455\teval-merror:0.626703\n",
      "[27]\ttrain-merror:0.54904\teval-merror:0.62852\n",
      "[28]\ttrain-merror:0.548221\teval-merror:0.629428\n",
      "[29]\ttrain-merror:0.548455\teval-merror:0.631244\n",
      "[30]\ttrain-merror:0.546348\teval-merror:0.62852\n",
      "Stopping. Best iteration:\n",
      "[20]\ttrain-merror:0.551732\teval-merror:0.622162\n",
      "\n",
      "best accuracy on the dev set: 0.377838\n"
     ]
    }
   ],
   "source": [
    "# BONUS!\n",
    "# 5 - Try to improve performance with another classifier\n",
    "#     Attach the output file \"XXX_bov_y_test_sst.txt\" to your deliverable (where XXX = the name of the classifier)\n",
    "\n",
    "import xgboost as xgb\n",
    "dtrain = xgb.DMatrix(train_bov, label=Y_train)\n",
    "ddev = xgb.DMatrix(dev_bov, label=Y_dev)\n",
    "param = {'n_estimators': 1000, 'max_depth': 4, 'eta': 0.01,\n",
    "         'subsample': 1, 'colsample_bytree': 1, 'gamma': 1,\n",
    "         'objective': 'multi:softmax', 'num_class': 5, 'eval_metric': 'merror',\n",
    "         'nthread': 8, 'silent': 1}\n",
    "evallist = [(dtrain, 'train'), (ddev, 'eval')]\n",
    "num_round = 40\n",
    "bst = xgb.train(param, dtrain, num_round, evallist, early_stopping_rounds=10)\n",
    "print('best accuracy on the dev set:', 1-bst.best_score)\n",
    "\n",
    "Y_pred = bst.predict(xgb.DMatrix(test_bov), ntree_limit=bst.best_ntree_limit)\n",
    "np.savetxt('xgb_bov_y_test_sst.txt', Y_pred, fmt='%d', delimiter='\\n') #!!remember to delete last newline!!"
   ]
  },
  {
   "cell_type": "markdown",
   "metadata": {},
   "source": [
    "# 4) Sentence classification with LSTMs in Keras"
   ]
  },
  {
   "cell_type": "markdown",
   "metadata": {},
   "source": [
    "## 4.1 - Preprocessing"
   ]
  },
  {
   "cell_type": "code",
   "execution_count": 63,
   "metadata": {},
   "outputs": [
    {
     "name": "stderr",
     "output_type": "stream",
     "text": [
      "Using TensorFlow backend.\n"
     ]
    }
   ],
   "source": [
    "import keras"
   ]
  },
  {
   "cell_type": "code",
   "execution_count": 233,
   "metadata": {},
   "outputs": [],
   "source": [
    "# 1 - Load train/dev/test sets of SST\n",
    "PATH_TO_DATA = \"./data/\"\n",
    "\n",
    "# TYPE CODE HERE\n",
    "# Load train sentences\n",
    "train_raw = []\n",
    "Y_train = []\n",
    "with io.open(PATH_TO_DATA+'SST/stsa.fine.train', encoding='utf-8') as f:\n",
    "    for line in f:\n",
    "        label, sentence = line.split(' ', 1)\n",
    "        Y_train.append(int(label))\n",
    "        train_raw.append(sentence)\n",
    "\n",
    "# Load dev sentences\n",
    "dev_raw = []\n",
    "Y_dev = []\n",
    "with io.open(PATH_TO_DATA+'SST/stsa.fine.dev', encoding='utf-8') as f:\n",
    "    for line in f:\n",
    "        label, sentence = line.split(' ', 1)\n",
    "        Y_dev.append(int(label))\n",
    "        dev_raw.append(sentence)\n",
    "        \n",
    "# Load test sentences\n",
    "test_raw = []\n",
    "with io.open(PATH_TO_DATA+'SST/stsa.fine.test.X', encoding='utf-8') as f:\n",
    "    for line in f:\n",
    "        test_raw.append(line)\n"
   ]
  },
  {
   "cell_type": "code",
   "execution_count": 234,
   "metadata": {},
   "outputs": [],
   "source": [
    "# 2 - Transform text to integers using keras.preprocessing.text.one_hot function\n",
    "#     https://keras.io/preprocessing/text/\n",
    "\n",
    "# TYPE CODE HERE\n",
    "from keras.preprocessing.text import Tokenizer\n",
    "tokenizer = Tokenizer(num_words=1000)\n",
    "tokenizer.fit_on_texts(train_raw+dev_raw+test_raw)\n",
    "tokenized = tokenizer.texts_to_sequences(train_raw+dev_raw+test_raw)\n",
    "train_tok = tokenized[:len(train_raw)]\n",
    "dev_tok = tokenized[len(train_raw): len(train_raw)+len(dev_raw)]\n",
    "test_tok = tokenized[len(train_raw)+len(dev_raw): len(train_raw)+len(dev_raw)+len(test_raw)]"
   ]
  },
  {
   "cell_type": "markdown",
   "metadata": {},
   "source": [
    "**Padding input data**\n",
    "\n",
    "Models in Keras (and elsewhere) take batches of sentences of the same length as input. It is because Deep Learning framework have been designed to handle well Tensors, which are particularly suited for fast computation on the GPU.\n",
    "\n",
    "Since sentences have different sizes, we \"pad\" them. That is, we add dummy \"padding\" tokens so that they all have the same length.\n",
    "\n",
    "The input to a Keras model thus has this size : (batchsize, maxseqlen) where maxseqlen is the maximum length of a sentence in the batch."
   ]
  },
  {
   "cell_type": "code",
   "execution_count": 235,
   "metadata": {},
   "outputs": [],
   "source": [
    "# 3 - Pad your sequences using keras.preprocessing.sequence.pad_sequences\n",
    "#     https://keras.io/preprocessing/sequence/\n",
    "\n",
    "# TYPE CODE HERE\n",
    "from keras.preprocessing import sequence\n",
    "x_train = sequence.pad_sequences(train_tok, maxlen=100)\n",
    "x_dev = sequence.pad_sequences(dev_tok, maxlen=100)\n",
    "x_test = sequence.pad_sequences(test_tok, maxlen=100)"
   ]
  },
  {
   "cell_type": "markdown",
   "metadata": {},
   "source": [
    "## 4.2 - Design and train your model"
   ]
  },
  {
   "cell_type": "code",
   "execution_count": 245,
   "metadata": {},
   "outputs": [],
   "source": [
    "# 4 - Design your encoder + classifier using keras.layers\n",
    "#     In Keras, Torch and other deep learning framework, we create a \"container\" which is the Sequential() module.\n",
    "#     Then we add components to this contained : the lookuptable, the LSTM, the classifier etc.\n",
    "#     All of these components are contained in the Sequential() and are trained together.\n",
    "\n",
    "\n",
    "# ADAPT CODE BELOW\n",
    "\n",
    "\n",
    "from keras.models import Sequential\n",
    "from keras.layers import Embedding, LSTM, Dense, Activation\n",
    "\n",
    "embed_dim  = 100  # word embedding dimension\n",
    "nhid       = 10  # number of hidden units in the LSTM\n",
    "vocab_size = 1000  # size of the vocabulary\n",
    "n_classes  = 5\n",
    "\n",
    "model = Sequential()\n",
    "model.add(Embedding(vocab_size, embed_dim))\n",
    "model.add(LSTM(nhid, dropout=0.2, recurrent_dropout=0.2))\n",
    "model.add(Dense(n_classes, activation='softmax'))\n"
   ]
  },
  {
   "cell_type": "code",
   "execution_count": 246,
   "metadata": {},
   "outputs": [
    {
     "name": "stdout",
     "output_type": "stream",
     "text": [
      "_________________________________________________________________\n",
      "Layer (type)                 Output Shape              Param #   \n",
      "=================================================================\n",
      "embedding_21 (Embedding)     (None, None, 100)         100000    \n",
      "_________________________________________________________________\n",
      "lstm_21 (LSTM)               (None, 10)                4440      \n",
      "_________________________________________________________________\n",
      "dense_21 (Dense)             (None, 5)                 55        \n",
      "=================================================================\n",
      "Total params: 104,495\n",
      "Trainable params: 104,495\n",
      "Non-trainable params: 0\n",
      "_________________________________________________________________\n",
      "None\n"
     ]
    }
   ],
   "source": [
    "# 5 - Define your loss/optimizer/metrics\n",
    "\n",
    "# MODIFY CODE BELOW\n",
    "\n",
    "loss_classif     =  'categorical_crossentropy' # find the right loss for multi-class classification\n",
    "optimizer        =  'adam' # find the right optimizer\n",
    "metrics_classif  =  ['accuracy']\n",
    "\n",
    "# Observe how easy (but blackboxed) this is in Keras\n",
    "model.compile(loss=loss_classif,\n",
    "              optimizer=optimizer,\n",
    "              metrics=metrics_classif)\n",
    "print(model.summary())"
   ]
  },
  {
   "cell_type": "code",
   "execution_count": 247,
   "metadata": {},
   "outputs": [
    {
     "name": "stdout",
     "output_type": "stream",
     "text": [
      "Train on 8544 samples, validate on 1101 samples\n",
      "Epoch 1/5\n",
      "8544/8544 [==============================] - 33s 4ms/step - loss: 1.5689 - acc: 0.2870 - val_loss: 1.5418 - val_acc: 0.3451\n",
      "\n",
      "Epoch 00001: val_acc improved from -inf to 0.34514, saving model to /tmp/weights.hdf5\n",
      "Epoch 2/5\n",
      "8544/8544 [==============================] - 27s 3ms/step - loss: 1.4729 - acc: 0.3646 - val_loss: 1.4425 - val_acc: 0.3760\n",
      "\n",
      "Epoch 00002: val_acc improved from 0.34514 to 0.37602, saving model to /tmp/weights.hdf5\n",
      "Epoch 3/5\n",
      "8544/8544 [==============================] - 27s 3ms/step - loss: 1.3567 - acc: 0.4230 - val_loss: 1.4162 - val_acc: 0.4060\n",
      "\n",
      "Epoch 00003: val_acc improved from 0.37602 to 0.40599, saving model to /tmp/weights.hdf5\n",
      "Epoch 4/5\n",
      "8544/8544 [==============================] - 27s 3ms/step - loss: 1.2902 - acc: 0.4553 - val_loss: 1.4089 - val_acc: 0.4024\n",
      "\n",
      "Epoch 00004: val_acc did not improve from 0.40599\n",
      "Epoch 5/5\n",
      "8544/8544 [==============================] - 27s 3ms/step - loss: 1.2470 - acc: 0.4741 - val_loss: 1.4109 - val_acc: 0.4133\n",
      "\n",
      "Epoch 00005: val_acc improved from 0.40599 to 0.41326, saving model to /tmp/weights.hdf5\n"
     ]
    }
   ],
   "source": [
    "# 6 - Train your model and find the best hyperparameters for your dev set\n",
    "#     you will be evaluated on the quality of your predictions on the test set\n",
    "\n",
    "# ADAPT CODE BELOW\n",
    "bs = 64\n",
    "n_epochs = 5\n",
    "y_train = keras.utils.np_utils.to_categorical(Y_train)\n",
    "y_dev = keras.utils.np_utils.to_categorical(Y_dev)\n",
    "checkpointer = keras.callbacks.ModelCheckpoint(filepath='/tmp/weights.hdf5', verbose=1,\n",
    "                                               save_best_only=True, monitor='val_acc')\n",
    "history = model.fit(x_train, y_train, batch_size=bs, epochs=n_epochs, validation_data=(x_dev, y_dev),\n",
    "                    callbacks=[checkpointer])"
   ]
  },
  {
   "cell_type": "code",
   "execution_count": 248,
   "metadata": {},
   "outputs": [],
   "source": [
    "# 7 - Generate your predictions on the test set using model.predict(x_test)\n",
    "#     https://keras.io/models/model/\n",
    "#     Log your predictions in a file (one line = one integer: 0,1,2,3,4)\n",
    "#     Attach the output file \"logreg_lstm_y_test_sst.txt\" to your deliverable.\n",
    "\n",
    "# TYPE CODE HERE\n",
    "model = keras.models.load_model(\"/tmp/weights.hdf5\")\n",
    "Y_pred = np.argmax(model.predict(x_test), axis = 1)\n",
    "np.savetxt('logreg_lstm_y_test_sst.txt', Y_pred, fmt='%d', delimiter='\\n') #!!remember to delete last newline!!"
   ]
  },
  {
   "cell_type": "markdown",
   "metadata": {},
   "source": [
    "## 4.3 -- innovate !"
   ]
  },
  {
   "cell_type": "code",
   "execution_count": 261,
   "metadata": {},
   "outputs": [
    {
     "name": "stdout",
     "output_type": "stream",
     "text": [
      "_________________________________________________________________\n",
      "Layer (type)                 Output Shape              Param #   \n",
      "=================================================================\n",
      "embedding_29 (Embedding)     (None, None, 50)          50000     \n",
      "_________________________________________________________________\n",
      "dropout_8 (Dropout)          (None, None, 50)          0         \n",
      "_________________________________________________________________\n",
      "conv1d_5 (Conv1D)            (None, None, 64)          16064     \n",
      "_________________________________________________________________\n",
      "max_pooling1d_4 (MaxPooling1 (None, None, 64)          0         \n",
      "_________________________________________________________________\n",
      "lstm_27 (LSTM)               (None, 70)                37800     \n",
      "_________________________________________________________________\n",
      "dense_27 (Dense)             (None, 5)                 355       \n",
      "=================================================================\n",
      "Total params: 104,219\n",
      "Trainable params: 104,219\n",
      "Non-trainable params: 0\n",
      "_________________________________________________________________\n",
      "None\n",
      "Train on 8544 samples, validate on 1101 samples\n",
      "Epoch 1/5\n",
      "8544/8544 [==============================] - 35s 4ms/step - loss: 1.5264 - acc: 0.3116 - val_loss: 1.4256 - val_acc: 0.3742\n",
      "\n",
      "Epoch 00001: val_acc improved from -inf to 0.37421, saving model to /tmp/weights_trial.hdf5\n",
      "Epoch 2/5\n",
      "8544/8544 [==============================] - 23s 3ms/step - loss: 1.3519 - acc: 0.4081 - val_loss: 1.3842 - val_acc: 0.3833\n",
      "\n",
      "Epoch 00002: val_acc improved from 0.37421 to 0.38329, saving model to /tmp/weights_trial.hdf5\n",
      "Epoch 3/5\n",
      "8544/8544 [==============================] - 23s 3ms/step - loss: 1.2501 - acc: 0.4602 - val_loss: 1.3959 - val_acc: 0.3715\n",
      "\n",
      "Epoch 00003: val_acc did not improve from 0.38329\n",
      "Epoch 4/5\n",
      "8544/8544 [==============================] - 23s 3ms/step - loss: 1.1726 - acc: 0.5028 - val_loss: 1.4222 - val_acc: 0.3751\n",
      "\n",
      "Epoch 00004: val_acc did not improve from 0.38329\n",
      "Epoch 5/5\n",
      "8544/8544 [==============================] - 22s 3ms/step - loss: 1.0932 - acc: 0.5471 - val_loss: 1.5239 - val_acc: 0.3769\n",
      "\n",
      "Epoch 00005: val_acc did not improve from 0.38329\n"
     ]
    }
   ],
   "source": [
    "# 8 - Open question: find a model that is better on your dev set\n",
    "#     (e.g: use a 1D ConvNet, use a better classifier, pretrain your lookup tables ..)\n",
    "#     you will get point if the results on the test set are better: be careful of not overfitting your dev set too much..\n",
    "#     Attach the output file \"XXX_XXX_y_test_sst.txt\" to your deliverable.\n",
    "\n",
    "# TYPE CODE HERE\n",
    "from keras.models import Sequential\n",
    "from keras.layers import Dense, Dropout, Embedding, LSTM, Bidirectional, Conv1D, MaxPooling1D\n",
    "\n",
    "embed_dim  = 50  # word embedding dimension\n",
    "vocab_size = 1000  # size of the vocabulary\n",
    "n_classes  = 5\n",
    "kernel_size = 5\n",
    "filters = 64\n",
    "pool_size = 4\n",
    "lstm_output_size = 70\n",
    "\n",
    "model = Sequential()\n",
    "model.add(Embedding(vocab_size, embed_dim))\n",
    "model.add(Dropout(0.25))\n",
    "model.add(Conv1D(filters,\n",
    "                 kernel_size,\n",
    "                 padding='valid',\n",
    "                 activation='relu',\n",
    "                 strides=1))\n",
    "model.add(MaxPooling1D(pool_size=pool_size))\n",
    "model.add(LSTM(lstm_output_size))\n",
    "model.add(Dense(n_classes, activation='softmax'))\n",
    "\n",
    "\n",
    "\n",
    "loss_classif     =  'categorical_crossentropy' \n",
    "optimizer        =  'adam' \n",
    "metrics_classif  =  ['accuracy']\n",
    "\n",
    "model.compile(loss=loss_classif,\n",
    "              optimizer=optimizer,\n",
    "              metrics=metrics_classif)\n",
    "print(model.summary())\n",
    "\n",
    "bs = 16\n",
    "n_epochs = 5\n",
    "y_train = keras.utils.np_utils.to_categorical(Y_train)\n",
    "y_dev = keras.utils.np_utils.to_categorical(Y_dev)\n",
    "checkpointer = keras.callbacks.ModelCheckpoint(filepath='/tmp/weights_trial.hdf5', verbose=1,\n",
    "                                               save_best_only=True, monitor='val_acc')\n",
    "history = model.fit(x_train, y_train, batch_size=bs, epochs=n_epochs, validation_data=(x_dev, y_dev),\n",
    "                    callbacks=[checkpointer])\n",
    "\n",
    "model = keras.models.load_model(\"/tmp/weights_trial.hdf5\")\n",
    "Y_pred = np.argmax(model.predict(x_test), axis = 1)\n",
    "np.savetxt('logreg_convlstm_y_test_sst.txt', Y_pred, fmt='%d', delimiter='\\n') #!!remember to delete last newline!!"
   ]
  }
 ],
 "metadata": {
  "kernelspec": {
   "display_name": "Python 3",
   "language": "python",
   "name": "python3"
  },
  "language_info": {
   "codemirror_mode": {
    "name": "ipython",
    "version": 3
   },
   "file_extension": ".py",
   "mimetype": "text/x-python",
   "name": "python",
   "nbconvert_exporter": "python",
   "pygments_lexer": "ipython3",
   "version": "3.6.7"
  }
 },
 "nbformat": 4,
 "nbformat_minor": 1
}
