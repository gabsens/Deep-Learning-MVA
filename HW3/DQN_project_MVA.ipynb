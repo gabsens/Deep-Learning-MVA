{
 "cells": [
  {
   "cell_type": "markdown",
   "metadata": {},
   "source": [
    "**You may need to install [OpenCV](https://pypi.python.org/pypi/opencv-python) and [scikit-video](http://www.scikit-video.org/stable/).**"
   ]
  },
  {
   "cell_type": "code",
   "execution_count": 1,
   "metadata": {},
   "outputs": [
    {
     "name": "stderr",
     "output_type": "stream",
     "text": [
      "Using TensorFlow backend.\n"
     ]
    }
   ],
   "source": [
    "import keras\n",
    "import numpy as np\n",
    "import io\n",
    "import base64\n",
    "from IPython.display import HTML\n",
    "import skvideo.io\n",
    "import cv2\n",
    "import json\n",
    "\n",
    "from keras.models import Sequential,model_from_json\n",
    "from keras.layers.core import Dense\n",
    "from keras.optimizers import sgd, Adam\n",
    "from keras.layers import Conv2D, MaxPooling2D, Activation, AveragePooling2D,Reshape,BatchNormalization, Flatten"
   ]
  },
  {
   "cell_type": "markdown",
   "metadata": {},
   "source": [
    "# MiniProject #3: Deep Reinforcement Learning"
   ]
  },
  {
   "cell_type": "markdown",
   "metadata": {},
   "source": [
    "__Notations__: $E_p$ is the expectation under probability $p$. Please justify each of your answer and widely comment your code."
   ]
  },
  {
   "cell_type": "markdown",
   "metadata": {},
   "source": [
    "# Context"
   ]
  },
  {
   "cell_type": "markdown",
   "metadata": {},
   "source": [
    "In a reinforcement learning algorithm, we modelize each step $t$ as an action $a_t$ obtained from a state $s_t$, i.e. $\\{(a_{t},s_{t})_{t\\leq T}\\}$ having the Markov property. We consider a discount factor $\\gamma \\in [0,1]$ that ensures convergence. The goal is to find among all the policies $\\pi$, one that maximizes the expected reward:\n",
    "\n",
    "\\begin{equation*}\n",
    "R(\\pi)=\\sum_{t\\leq T}E_{p^{\\pi}}[\\gamma^t r(s_{t},a_{t})] \\> ,\n",
    "\\end{equation*}\n",
    "\n",
    "where: \n",
    "\\begin{equation*}p^{\\pi}(a_{0},a_{1},s_{1},...,a_{T},s_{T})=p(a_{0})\\prod_{t=1}^{T}\\pi(a_{t}|s_{t})p(s_{t+1}|s_{t},a_{t}) \\> .\n",
    "\\end{equation*}\n",
    "\n",
    "We note the $Q$-function:\n",
    "\n",
    "\\begin{equation*}Q^\\pi(s,a)=E_{p^{\\pi}}[\\sum_{t\\leq T}\\gamma^{t}r(s_{t},a_{t})|s_{0}=s,a_{0}=a] \\> .\n",
    "\\end{equation*}\n",
    "\n",
    "Thus, the optimal Q function is:\n",
    "\\begin{equation*}\n",
    "Q^*(s,a)=\\max_{\\pi}Q^\\pi(s,a) \\> .\n",
    "\\end{equation*}\n",
    "\n",
    "In this project, we will apply the deep reinforcement learning techniques to a simple game: an agent will have to learn from scratch a policy that will permit it maximizing a reward."
   ]
  },
  {
   "cell_type": "markdown",
   "metadata": {},
   "source": [
    "## The environment, the agent and the game"
   ]
  },
  {
   "cell_type": "markdown",
   "metadata": {},
   "source": [
    "### The environment"
   ]
  },
  {
   "cell_type": "markdown",
   "metadata": {},
   "source": [
    "```Environment``` is an abstract class that represents the states, rewards, and actions to obtain the new state."
   ]
  },
  {
   "cell_type": "code",
   "execution_count": 2,
   "metadata": {},
   "outputs": [],
   "source": [
    "class Environment(object):\n",
    "    def __init__(self):\n",
    "        pass\n",
    "\n",
    "    def act(self, act):\n",
    "        \"\"\"\n",
    "        One can act on the environment and obtain its reaction:\n",
    "        - the new state\n",
    "        - the reward of the new state\n",
    "        - should we continue the game?\n",
    "\n",
    "        :return: state, reward, game_over\n",
    "        \"\"\"\n",
    "        pass\n",
    "\n",
    "\n",
    "    def reset(self):\n",
    "        \"\"\"\n",
    "        Reinitialize the environment to a random state and returns\n",
    "        the original state\n",
    "\n",
    "        :return: state\n",
    "        \"\"\"\n",
    "        pass\n",
    "    \n",
    "    def draw(self):\n",
    "        \"\"\"\n",
    "        Visualize in the console or graphically the current state\n",
    "        \"\"\"\n",
    "        pass"
   ]
  },
  {
   "cell_type": "markdown",
   "metadata": {},
   "source": [
    "The method ```act``` allows to act on the environment at a given state $s_t$ (stored internally), via action $a_t$. The method will return the new state $s_{t+1}$, the reward $r(s_{t},a_{t})$ and determines if $t\\leq T$ (*game_over*).\n",
    "\n",
    "The method ```reset``` simply reinitializes the environment to a random state $s_0$.\n",
    "\n",
    "The method ```draw``` displays the current state $s_t$ (this is useful to check the behavior of the Agent).\n",
    "\n",
    "We modelize $s_t$ as a tensor, while $a_t$ is an integer."
   ]
  },
  {
   "cell_type": "markdown",
   "metadata": {},
   "source": [
    "### The Agent"
   ]
  },
  {
   "cell_type": "markdown",
   "metadata": {},
   "source": [
    "The goal of the ```Agent``` is to interact with the ```Environment``` by proposing actions $a_t$ obtained from a given state $s_t$ to attempt to maximize its __reward__ $r(s_t,a_t)$. We propose the following abstract class:"
   ]
  },
  {
   "cell_type": "code",
   "execution_count": 3,
   "metadata": {},
   "outputs": [],
   "source": [
    "class Agent(object):\n",
    "    def __init__(self, epsilon=0.1, n_action=4):\n",
    "        self.epsilon = epsilon\n",
    "        self.n_action = n_action\n",
    "    \n",
    "    def set_epsilon(self,e):\n",
    "        self.epsilon = e\n",
    "\n",
    "    def act(self,s,train=True):\n",
    "        \"\"\" This function should return the next action to do:\n",
    "        an integer between 0 and 4 (not included) with a random exploration of epsilon\"\"\"\n",
    "        if train:\n",
    "            if np.random.rand() <= self.epsilon:\n",
    "                a = np.random.randint(0, self.n_action, size=1)[0]\n",
    "            else:\n",
    "                a = self.learned_act(s)\n",
    "        else: # in some cases, this can improve the performance.. remove it if poor performances\n",
    "            a = self.learned_act(s)\n",
    "\n",
    "        return a\n",
    "\n",
    "    def learned_act(self,s):\n",
    "        \"\"\" Act via the policy of the agent, from a given state s\n",
    "        it proposes an action a\"\"\"\n",
    "        pass\n",
    "\n",
    "    def reinforce(self, s, n_s, a, r, game_over_):\n",
    "        \"\"\" This function is the core of the learning algorithm. \n",
    "        It takes as an input the current state s_, the next state n_s_\n",
    "        the action a_ used to move from s_ to n_s_ and the reward r_.\n",
    "        \n",
    "        Its goal is to learn a policy.\n",
    "        \"\"\"\n",
    "        pass\n",
    "\n",
    "    def save(self):\n",
    "        \"\"\" This function returns basic stats if applicable: the\n",
    "        loss and/or the model\"\"\"\n",
    "        pass\n",
    "\n",
    "    def load(self):\n",
    "        \"\"\" This function allows to restore a model\"\"\"\n",
    "        pass"
   ]
  },
  {
   "cell_type": "markdown",
   "metadata": {},
   "source": [
    "***\n",
    "__Question 1__:\n",
    "Explain the function `act`. Why is ```epsilon``` essential?"
   ]
  },
  {
   "cell_type": "markdown",
   "metadata": {},
   "source": [
    "The function `act` implements the $\\epsilon$-greedy algorithm: at time $t$, it selects a random action with probability $\\epsilon$, and with probability $1-\\epsilon$ it selects the action with the highest value $\\operatorname{argmax}_{a \\in \\mathcal{A}} \\hat Q(s_t, a)$. This algorithm illustrates the *exploitation vs exploration* dilemma: exploiting means making the best decision given current information while exploring means gathering more information. \n",
    "\n",
    "$\\epsilon$ controls the balance between exploitation and exploration."
   ]
  },
  {
   "cell_type": "markdown",
   "metadata": {},
   "source": [
    "***\n",
    "### The Game"
   ]
  },
  {
   "cell_type": "markdown",
   "metadata": {},
   "source": [
    "The ```Agent``` and the ```Environment``` work in an interlaced way as in the following (take some time to understand this code as it is the core of the project)\n",
    "\n",
    "```python\n",
    "\n",
    "epoch = 300\n",
    "env = Environment()\n",
    "agent = Agent()\n",
    "\n",
    "\n",
    "# Number of won games\n",
    "score = 0\n",
    "loss = 0\n",
    "\n",
    "\n",
    "for e in range(epoch):\n",
    "    # At each epoch, we restart to a fresh game and get the initial state\n",
    "    state = env.reset()\n",
    "    # This assumes that the games will end\n",
    "    game_over = False\n",
    "\n",
    "    win = 0\n",
    "    lose = 0\n",
    "    \n",
    "    while not game_over:\n",
    "        # The agent performs an action\n",
    "        action = agent.act(state)\n",
    "\n",
    "        # Apply an action to the environment, get the next state, the reward\n",
    "        # and if the games end\n",
    "        prev_state = state\n",
    "        state, reward, game_over = env.act(action)\n",
    "\n",
    "        # Update the counters\n",
    "        if reward > 0:\n",
    "            win = win + reward\n",
    "        if reward < 0:\n",
    "            lose = lose -reward\n",
    "\n",
    "        # Apply the reinforcement strategy\n",
    "        loss = agent.reinforce(prev_state, state,  action, reward, game_over)\n",
    "\n",
    "    # Save as a mp4\n",
    "    if e % 10 == 0:\n",
    "        env.draw(e)\n",
    "\n",
    "    # Update stats\n",
    "    score += win-lose\n",
    "\n",
    "    print(\"Epoch {:03d}/{:03d} | Loss {:.4f} | Win/lose count {}/{} ({})\"\n",
    "          .format(e, epoch, loss, win, lose, win-lose))\n",
    "    agent.save()\n",
    "```"
   ]
  },
  {
   "cell_type": "markdown",
   "metadata": {},
   "source": [
    "# The game, *eat cheese*"
   ]
  },
  {
   "cell_type": "markdown",
   "metadata": {},
   "source": [
    "A rat runs on an island and tries to eat as much as possible. The island is subdivided into $N\\times N$ cells, in which there are cheese (+0.5) and poisonous cells (-1). The rat has a visibility of 2 cells (thus it can see $5^2$ cells). The rat is given a time $T$ to accumulate as much food as possible. It can perform 4 actions: going up, down, left, right. \n",
    "\n",
    "The goal is to code an agent to solve this task that will learn by trial and error. We propose the following environment:"
   ]
  },
  {
   "cell_type": "code",
   "execution_count": 4,
   "metadata": {},
   "outputs": [],
   "source": [
    "class Environment(object):\n",
    "    def __init__(self, grid_size=10, max_time=500, temperature=0.1):\n",
    "        grid_size = grid_size+4\n",
    "        self.grid_size = grid_size\n",
    "        self.max_time = max_time\n",
    "        self.temperature = temperature\n",
    "\n",
    "        #board on which one plays\n",
    "        self.board = np.zeros((grid_size,grid_size))\n",
    "        self.position = np.zeros((grid_size,grid_size))\n",
    "\n",
    "        # coordinate of the cat\n",
    "        self.x = 0\n",
    "        self.y = 1\n",
    "\n",
    "        # self time\n",
    "        self.t = 0\n",
    "\n",
    "        self.scale=16\n",
    "\n",
    "        self.to_draw = np.zeros((max_time+2, grid_size*self.scale, grid_size*self.scale, 3))\n",
    "\n",
    "\n",
    "    def draw(self,e):\n",
    "        skvideo.io.vwrite(str(e) + '.mp4', self.to_draw)\n",
    "\n",
    "    def get_frame(self,t):\n",
    "        b = np.zeros((self.grid_size,self.grid_size,3))+128\n",
    "        b[self.board>0,0] = 256\n",
    "        b[self.board < 0, 2] = 256\n",
    "        b[self.x,self.y,:]=256\n",
    "        b[-2:,:,:]=0\n",
    "        b[:,-2:,:]=0\n",
    "        b[:2,:,:]=0\n",
    "        b[:,:2,:]=0\n",
    "        \n",
    "        b =  cv2.resize(b, None, fx=self.scale, fy=self.scale, interpolation=cv2.INTER_NEAREST)\n",
    "\n",
    "        self.to_draw[t,:,:,:]=b\n",
    "\n",
    "\n",
    "    def act(self, action):\n",
    "        \"\"\"This function returns the new state, reward and decides if the\n",
    "        game ends.\"\"\"\n",
    "\n",
    "        self.get_frame(int(self.t))\n",
    "\n",
    "        self.position = np.zeros((self.grid_size, self.grid_size))\n",
    "\n",
    "        self.position[0:2,:]= -1\n",
    "        self.position[:,0:2] = -1\n",
    "        self.position[-2:, :] = -1\n",
    "        self.position[-2:, :] = -1\n",
    "\n",
    "        self.position[self.x, self.y] = 1\n",
    "        if action == 0:\n",
    "            if self.x == self.grid_size-3:\n",
    "                self.x = self.x-1\n",
    "            else:\n",
    "                self.x = self.x + 1\n",
    "        elif action == 1:\n",
    "            if self.x == 2:\n",
    "                self.x = self.x+1\n",
    "            else:\n",
    "                self.x = self.x-1\n",
    "        elif action == 2:\n",
    "            if self.y == self.grid_size - 3:\n",
    "                self.y = self.y - 1\n",
    "            else:\n",
    "                self.y = self.y + 1\n",
    "        elif action == 3:\n",
    "            if self.y == 2:\n",
    "                self.y = self.y + 1\n",
    "            else:\n",
    "                self.y = self.y - 1\n",
    "        else:\n",
    "            RuntimeError('Error: action not recognized')\n",
    "\n",
    "        self.t = self.t + 1\n",
    "        reward = self.board[self.x, self.y]\n",
    "        self.board[self.x, self.y] = 0\n",
    "        game_over = self.t > self.max_time\n",
    "        state = np.concatenate((self.board.reshape(self.grid_size, self.grid_size,1),\n",
    "                        self.position.reshape(self.grid_size, self.grid_size,1)),axis=2)\n",
    "        state = state[self.x-2:self.x+3,self.y-2:self.y+3,:]\n",
    "\n",
    "        return state, reward, game_over\n",
    "\n",
    "    def reset(self):\n",
    "        \"\"\"This function resets the game and returns the initial state\"\"\"\n",
    "\n",
    "        self.x = np.random.randint(3, self.grid_size-3, size=1)[0]\n",
    "        self.y = np.random.randint(3, self.grid_size-3, size=1)[0]\n",
    "\n",
    "\n",
    "        bonus = 0.5*np.random.binomial(1,self.temperature,size=self.grid_size**2)\n",
    "        bonus = bonus.reshape(self.grid_size,self.grid_size)\n",
    "\n",
    "        malus = -1.0*np.random.binomial(1,self.temperature,size=self.grid_size**2)\n",
    "        malus = malus.reshape(self.grid_size, self.grid_size)\n",
    "\n",
    "        self.to_draw = np.zeros((self.max_time+2, self.grid_size*self.scale, self.grid_size*self.scale, 3))\n",
    "\n",
    "\n",
    "        malus[bonus>0]=0\n",
    "\n",
    "        self.board = bonus + malus\n",
    "\n",
    "        self.position = np.zeros((self.grid_size, self.grid_size))\n",
    "        self.position[0:2,:]= -1\n",
    "        self.position[:,0:2] = -1\n",
    "        self.position[-2:, :] = -1\n",
    "        self.position[-2:, :] = -1\n",
    "        self.board[self.x,self.y] = 0\n",
    "        self.t = 0\n",
    "\n",
    "        state = np.concatenate((\n",
    "                               self.board.reshape(self.grid_size, self.grid_size,1),\n",
    "                        self.position.reshape(self.grid_size, self.grid_size,1)),axis=2)\n",
    "\n",
    "        state = state[self.x - 2:self.x + 3, self.y - 2:self.y + 3, :]\n",
    "        return state"
   ]
  },
  {
   "cell_type": "markdown",
   "metadata": {},
   "source": [
    "The following elements are important because they correspond to the hyper parameters for this project:"
   ]
  },
  {
   "cell_type": "code",
   "execution_count": 5,
   "metadata": {},
   "outputs": [],
   "source": [
    "# parameters\n",
    "size = 13\n",
    "T=200\n",
    "temperature=0.3\n",
    "epochs_train=10 # set small when debugging\n",
    "epochs_test=10 # set small when debugging\n",
    "\n",
    "# display videos\n",
    "def display_videos(name):\n",
    "    video = io.open(name, 'r+b').read()\n",
    "    encoded = base64.b64encode(video)\n",
    "    return '''<video alt=\"test\" controls>\n",
    "                <source src=\"data:video/mp4;base64,{0}\" type=\"video/mp4\" />\n",
    "             </video>'''.format(encoded.decode('ascii'))"
   ]
  },
  {
   "cell_type": "markdown",
   "metadata": {},
   "source": [
    "__Question 2__ Explain the use of the arrays ```position``` and ```board```."
   ]
  },
  {
   "cell_type": "markdown",
   "metadata": {},
   "source": [
    "`position` is an array that stores the trajectory of the agent: it is $1$ on the cells visited by the mouse, $0$ on the cells not visited and $-1$ on a $2\\times 2$ padding of the board (which enforces the $5\\times 5$ visual field at the boundaries of the board).\n",
    "\n",
    "`board` is an array that tracks rewards over time: $0.5$ for cheese, $-1$ for poison and $0$ elsewhere. Rewards that have been consumed by the agent are set to $0$.\n",
    "\n",
    "***"
   ]
  },
  {
   "cell_type": "markdown",
   "metadata": {},
   "source": [
    "## Random Agent"
   ]
  },
  {
   "cell_type": "markdown",
   "metadata": {},
   "source": [
    "***\n",
    "__Question 3__ Implement a random Agent (only ```learned_act``` needs to be implemented):"
   ]
  },
  {
   "cell_type": "code",
   "execution_count": 6,
   "metadata": {},
   "outputs": [],
   "source": [
    "class RandomAgent(Agent):\n",
    "    def __init__(self, n_action=4):\n",
    "        super(RandomAgent, self).__init__(n_action)\n",
    "        pass\n",
    "\n",
    "    def learned_act(self, s):\n",
    "        a = np.random.randint(0, self.n_action, size=1)[0]\n",
    "        return a"
   ]
  },
  {
   "cell_type": "markdown",
   "metadata": {},
   "source": [
    "***\n",
    "***\n",
    "__Question 4__ Visualize the game moves. You need to fill in the following function for the evaluation:"
   ]
  },
  {
   "cell_type": "code",
   "execution_count": 7,
   "metadata": {},
   "outputs": [],
   "source": [
    "def test(agent,env,epochs,prefix=''):\n",
    "    # Number of won games\n",
    "    score = 0\n",
    "        \n",
    "    for e in range(epochs):\n",
    "        \n",
    "        # At each epoch, we restart to a fresh game and get the initial state\n",
    "        state = env.reset()\n",
    "        # This assumes that the games will end\n",
    "        game_over = False\n",
    "\n",
    "        win = 0\n",
    "        lose = 0\n",
    "\n",
    "        while not game_over:\n",
    "            # The agent performs an action\n",
    "            action = agent.act(state)\n",
    "\n",
    "            # Apply an action to the environment, get the next state, the reward\n",
    "            # and if the games end\n",
    "            prev_state = state\n",
    "            state, reward, game_over = env.act(action)\n",
    "\n",
    "            # Update the counters\n",
    "            if reward > 0:\n",
    "                win = win + reward\n",
    "            if reward < 0:\n",
    "                lose = lose -reward\n",
    "        \n",
    "        # Save as a mp4\n",
    "        env.draw(prefix+str(e))\n",
    "\n",
    "        # Update stats\n",
    "        score = score + win-lose\n",
    "\n",
    "        print(\"Win/lose count {}/{}. Average score ({})\"\n",
    "              .format(win, lose, score/(1+e)))\n",
    "    print('Final score: '+str(score/epochs))"
   ]
  },
  {
   "cell_type": "code",
   "execution_count": 8,
   "metadata": {},
   "outputs": [
    {
     "name": "stdout",
     "output_type": "stream",
     "text": [
      "Win/lose count 10.5/14.0. Average score (-3.5)\n",
      "Win/lose count 11.0/13.0. Average score (-2.75)\n",
      "Win/lose count 10.0/11.0. Average score (-2.1666666666666665)\n",
      "Win/lose count 10.5/17.0. Average score (-3.25)\n",
      "Win/lose count 6.0/12.0. Average score (-3.8)\n",
      "Win/lose count 8.0/9.0. Average score (-3.3333333333333335)\n",
      "Win/lose count 10.5/11.0. Average score (-2.9285714285714284)\n",
      "Win/lose count 9.0/19.0. Average score (-3.8125)\n",
      "Win/lose count 8.0/17.0. Average score (-4.388888888888889)\n",
      "Win/lose count 6.0/12.0. Average score (-4.55)\n",
      "Final score: -4.55\n"
     ]
    },
    {
     "data": {
      "text/html": [
       "<video alt=\"test\" controls>\n",
       "                <source src=\"data:video/mp4;base64,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\" type=\"video/mp4\" />\n",
       "             </video>"
      ],
      "text/plain": [
       "<IPython.core.display.HTML object>"
      ]
     },
     "execution_count": 8,
     "metadata": {},
     "output_type": "execute_result"
    }
   ],
   "source": [
    "# Initialize the game\n",
    "env = Environment(grid_size=size, max_time=T,temperature=temperature)\n",
    "\n",
    "# Initialize the agent!\n",
    "agent = RandomAgent()\n",
    "\n",
    "test(agent,env,epochs_test,prefix='random')\n",
    "HTML(display_videos('random0.mp4'))"
   ]
  },
  {
   "cell_type": "markdown",
   "metadata": {},
   "source": [
    "***\n",
    "## DQN"
   ]
  },
  {
   "cell_type": "markdown",
   "metadata": {},
   "source": [
    "Let us assume here that $T=\\infty$.\n",
    "\n",
    "***\n",
    "__Question 5__ Let $\\pi$ be a policy, show that:\n",
    "\n",
    "\\begin{equation*}\n",
    "Q^{\\pi}(s,a)=E_{(s',a')\\sim p(.|s,a)}[r(s,a)+\\gamma Q^{\\pi}(s',a')]\n",
    "\\end{equation*}\n",
    "\n",
    "Then, show that for the optimal policy $\\pi^*$ (we assume its existence), the following holds: \n",
    "\n",
    "\\begin{equation*}\n",
    "Q^{*}(s,a)=E_{s'\\sim \\pi^*(.|s,a)}[r(s,a)+\\gamma\\max_{a'}Q^{*}(s',a')].\n",
    "\\end{equation*}\n",
    "Finally, deduce that a plausible objective is:\n",
    "\n",
    "\\begin{equation*}\n",
    "\\mathcal{L}(\\theta)=E_{s' \\sim \\pi^*(.|s,a)}\\Vert r+\\gamma\\max\\max_{a'}Q(s',a',\\theta)-Q(s,a,\\theta)\\Vert^{2}.\n",
    "\\end{equation*}\n",
    "\n",
    "\n"
   ]
  },
  {
   "cell_type": "markdown",
   "metadata": {},
   "source": [
    "***\n",
    "\n",
    "1. Note that $$\\begin{aligned} Q^{\\pi}(s, a) &=\\mathbb{E}_{p^{\\pi}}\\left[\\sum_{t = 0}^{\\infty} \\gamma^{t} r\\left(s_{t}, a_{t}\\right) | s_{0}=s, a_{0}=a\\right] \\\\ &=\\mathbb{E}_{p^{\\pi}}\\left[r(s, a)+\\sum_{t = 1}^{\\infty} \\gamma^{t} r\\left(s_{t}, a_{t}\\right) | s_{0}=s, a_{0}=a\\right] \\\\ &=r(s, a)+\\gamma \\mathbb{E}_{p^{\\pi}}\\left[\\sum_{t =1}^{\\infty} \\gamma^{t-1} r\\left(s_{t}, a_{t}\\right) | s_{0}=s, a_{0}=a\\right] \\end{aligned}$$\n",
    " and with the law of total expectation the second summand becomes \n",
    "$$\\begin{aligned} \\mathbb{E}_{p^{\\pi}}\\left[\\sum_{t =1}^{\\infty} \\gamma^{t-1} r\\left(s_{t}, a_{t}\\right) | s_{0}=s, a_{0}=a\\right] \n",
    "&=\\sum_{\\left(a^{\\prime}, s^{\\prime}\\right)} \\mathbb{E}_{p^{\\pi}}\\left[\\sum_{t \\geq 1}^{\\infty} \\gamma^{t-1} r\\left(s_{t}, a_{t}\\right) | s_{0}=s, a_{0}=a, s_{1}=s^{\\prime}, a_{1}=a^{\\prime}\\right] \\mathbb{P}\\left(s_{1}=s^{\\prime}, a_{1}=a^{\\prime} | s_{0}=s, a_{0}=a\\right) \\\\ \n",
    "&=\\sum_{\\left(a^{\\prime}, s^{\\prime}\\right)} \\mathbb{E}_{p^{\\pi}}\\left[\\sum_{t \\geq 1}^{\\infty} \\gamma^{t-1} r\\left(s_{t}, a_{t}\\right) | s_{1}=s^{\\prime}, a_{1}=a^{\\prime}\\right]  \\mathbb{P}\\left(s_{1}=s^{\\prime}, a_{1}=a^{\\prime} | s_{0}=s, a_{0}=a\\right) \\\\\n",
    "&=\\sum_{\\left(a^{\\prime}, s^{\\prime}\\right)} \\mathbb{P}\\left(s_{1}=s^{\\prime}, a_{1}=a^{\\prime} | s_{0}=s, a_{0}=a\\right) \\times Q^{\\pi}\\left(s^{\\prime}, a^{\\prime}\\right) \\\\ \n",
    "&=\\mathbb{E}_{\\left(s^{\\prime}, a^{\\prime}\\right) \\sim p(\\cdot | s, a)}\\left[Q^{\\pi}\\left(s^{\\prime}, a^{\\prime}\\right)\\right] \n",
    "\\end{aligned}$$\n",
    "\n",
    "Hence $$ Q^{\\pi}(s, a) = \\mathbb{E}_{\\left(s^{\\prime}, a^{\\prime}\\right) \\sim p(\\cdot | s, a)}\\left[r(s, a) + \\gamma Q^{\\pi}\\left(s^{\\prime}, a^{\\prime}\\right)\\right]$$\n",
    "\n",
    "2. By optimality of $\\pi$ we have $Q^{\\pi^{*}}(s, a)=\\max _{a^{\\prime}} Q^{\\pi^{*}}\\left(s, a^{\\prime}\\right)$. Let $\\pi^*(s)$ denote the optimal deterministic action such that $Q^{\\pi^{*}}(s, a) = Q^{\\pi^{*}}(s, \\pi^*(s))$.\n",
    "\n",
    "Then $$\\begin{aligned} Q^{*}(s, a) &=Q^{\\pi^{*}}(s, a)=E_{s^{\\prime} \\sim p(\\cdot | s, a)}\\left[r(s, a)+\\gamma Q^{\\pi^{*}}\\left(s^{\\prime}, \\pi^{*}\\left(s^{\\prime}\\right)\\right)\\right] \\\\ &=E_{s^{\\prime} \\sim p(\\cdot | s, a)}\\left[r(s, a)+\\gamma \\max _{a^{\\prime}} Q^{\\pi^{*}}\\left(s^{\\prime}, a^{\\prime}\\right)\\right] \\\\ &=E_{s^{\\prime} \\sim p(\\cdot | s, a)}\\left[r(s, a)+\\gamma \\max _{a^{\\prime}} Q^{*}\\left(s^{\\prime}, a^{\\prime}\\right)\\right] \\end{aligned}$$\n",
    "\n",
    "3. $Q$ is parametrized by $\\theta$ and we're looking to minimize the squared error loss $(Q^*(s,a)-Q_\\theta(s,a))^2$. However $Q^*(s,a)$ is unknown so at time $t$ we replace it with the following estimate $y_{t}=r(s, a)+\\gamma E_{s^{\\prime} \\sim p( . | s, a)}\\left[\\max _{a^{\\prime}} Q_{\\theta_{t}}\\left(s^{\\prime}, a^{\\prime}\\right)\\right]$. \n",
    "\n",
    "A sensible loss at time $t+1$ is thus $\\mathcal L(\\theta_{t+1}) = E_{s^{\\prime} \\sim p( . | s, a)}(y_t-Q_{\\theta_{t+1}}(s,a))^2$"
   ]
  },
  {
   "cell_type": "markdown",
   "metadata": {},
   "source": [
    "***\n",
    "The DQN-learning algorithm relies on these derivations to train the parameters $\\theta$ of a Deep Neural Network:\n",
    "\n",
    "1. At the state $s_t$, select the action $a_t$ with best reward using $Q_t$ and store the results;\n",
    "\n",
    "2. Obtain the new state $s_{t+1}$ from the environment $p$;\n",
    "\n",
    "3. Store $(s_t,a_t,s_{t+1})$;\n",
    "\n",
    "4. Obtain $Q_{t+1}$ by minimizing  $\\mathcal{L}$ from a recovered batch from the previously stored results.\n",
    "\n",
    "***\n",
    "__Question 6__ Implement the class ```Memory``` that stores moves (in a replay buffer) via ```remember``` and provides a ```random_access``` to these. Specify a maximum memory size to avoid side effects. You can for example use a ```list()``` and set by default ```max_memory=100```."
   ]
  },
  {
   "cell_type": "code",
   "execution_count": 9,
   "metadata": {},
   "outputs": [],
   "source": [
    "class Memory(object):\n",
    "    def __init__(self, max_memory=100):\n",
    "        self.max_memory = max_memory\n",
    "        self.memory = list()\n",
    "\n",
    "    def remember(self, m):\n",
    "        self.memory.append(m)\n",
    "        if len(self.memory) > self.max_memory:\n",
    "            del self.memory[0]\n",
    "\n",
    "    def random_access(self):\n",
    "        return self.memory[np.random.choice(len(self.memory))]"
   ]
  },
  {
   "cell_type": "markdown",
   "metadata": {},
   "source": [
    "***\n",
    "The pipeline we will use for training is given below:"
   ]
  },
  {
   "cell_type": "code",
   "execution_count": 10,
   "metadata": {},
   "outputs": [],
   "source": [
    "def train(agent,env,epoch,prefix=''):\n",
    "    # Number of won games\n",
    "    score = 0\n",
    "    loss = 0\n",
    "\n",
    "    for e in range(epoch):\n",
    "        # At each epoch, we restart to a fresh game and get the initial state\n",
    "        state = env.reset()\n",
    "        # This assumes that the games will terminate\n",
    "        game_over = False\n",
    "\n",
    "        win = 0\n",
    "        lose = 0\n",
    "\n",
    "        while not game_over:\n",
    "            # The agent performs an action\n",
    "            action = agent.act(state)\n",
    "\n",
    "            # Apply an action to the environment, get the next state, the reward\n",
    "            # and if the games end\n",
    "            prev_state = state\n",
    "            state, reward, game_over = env.act(action)\n",
    "\n",
    "            # Update the counters\n",
    "            if reward > 0:\n",
    "                win = win + reward\n",
    "            if reward < 0:\n",
    "                lose = lose -reward\n",
    "\n",
    "            # Apply the reinforcement strategy\n",
    "            loss = agent.reinforce(prev_state, state,  action, reward, game_over)\n",
    "\n",
    "        # Save as a mp4\n",
    "        if e % 10 == 0:\n",
    "            env.draw(prefix+str(e))\n",
    "\n",
    "        # Update stats\n",
    "        score += win-lose\n",
    "\n",
    "        print(\"Epoch {:03d}/{:03d} | Loss {:.4f} | Win/lose count {}/{} ({})\"\n",
    "              .format(e, epoch, loss, win, lose, win-lose))\n",
    "        agent.save(name_weights=prefix+'model.h5',name_model=prefix+'model.json')"
   ]
  },
  {
   "cell_type": "markdown",
   "metadata": {},
   "source": [
    "***\n",
    "__Question 7__ Implement the DQN training algorithm using a cascade of fully connected layers. You can use different learning rate, batch size or memory size parameters. In particular, the loss might oscillate while the player will start to win the games. You have to find a good criterium."
   ]
  },
  {
   "cell_type": "code",
   "execution_count": 11,
   "metadata": {},
   "outputs": [],
   "source": [
    "class DQN(Agent):\n",
    "    def __init__(self, grid_size,  epsilon = 0.1, memory_size=100, batch_size = 16,n_state=2):\n",
    "        super(DQN, self).__init__(epsilon = epsilon)\n",
    "\n",
    "        # Discount for Q learning\n",
    "        self.discount = 0.99\n",
    "        \n",
    "        self.grid_size = grid_size\n",
    "        \n",
    "        # number of state\n",
    "        self.n_state = n_state\n",
    "\n",
    "        # Memory\n",
    "        self.memory = Memory(memory_size)\n",
    "        \n",
    "        # Batch size when learning\n",
    "        self.batch_size = batch_size\n",
    "\n",
    "    def learned_act(self, s):\n",
    "        pass\n",
    "\n",
    "    def reinforce(self, s_, n_s_, a_, r_, game_over_):\n",
    "        # Two steps: first memorize the states, second learn from the pool\n",
    "        \n",
    "        self.memory.remember([s_, n_s_, a_, r_, game_over_])\n",
    "        \n",
    "        input_states = np.zeros((self.batch_size, 5, 5, self.n_state))\n",
    "        target_q = np.zeros((self.batch_size, 4))\n",
    "        \n",
    "        for i in range(self.batch_size):\n",
    "            s_, n_s, a_, r_, game_over_ = self.memory.random_access()\n",
    "            input_states[i] = s_\n",
    "            \n",
    "            target_q[i] = self.model.predict(np.expand_dims(s_, 0))\n",
    "            \n",
    "            if game_over_:\n",
    "                ######## FILL IN\n",
    "                target_q[i, a_] = r_\n",
    "            else:\n",
    "                ######## FILL IN\n",
    "                target_q[i, a_] = r_ + self.discount * np.max(self.model.predict(np.expand_dims(n_s, 0)))\n",
    "                \n",
    "        ######## FILL IN\n",
    "        # HINT: Clip the target to avoid exploiding gradients.. -- clipping is a bit tighter\n",
    "        target_q = np.clip(target_q, -3, 3)\n",
    "        l = self.model.train_on_batch(input_states, target_q)\n",
    "\n",
    "        return l\n",
    "\n",
    "    def save(self,name_weights='model.h5',name_model='model.json'):\n",
    "        self.model.save_weights(name_weights, overwrite=True)\n",
    "        with open(name_model, \"w\") as outfile:\n",
    "            json.dump(self.model.to_json(), outfile)\n",
    "            \n",
    "    def load(self,name_weights='model.h5',name_model='model.json'):\n",
    "        with open(name_model, \"r\") as jfile:\n",
    "            model = model_from_json(json.load(jfile))\n",
    "        model.load_weights(name_weights)\n",
    "        model.compile(\"sgd\", \"mse\")\n",
    "        self.model = model\n",
    "\n",
    "            \n",
    "class DQN_FC(DQN):\n",
    "    def __init__(self, *args, lr=0.1,**kwargs):\n",
    "        super(DQN_FC, self).__init__( *args,**kwargs)\n",
    "        \n",
    "        # NN Model\n",
    "        model = Sequential()\n",
    "        model.add(Flatten(input_shape=(5,5,self.n_state)))\n",
    "        model.add(Dense(32, activation='relu'))\n",
    "        model.add(Dense(32, activation='relu'))\n",
    "        model.add(Dense(4, activation='linear'))\n",
    "        ####### FILL IN\n",
    "        \n",
    "        model.compile(loss='mse', optimizer=Adam(lr=lr))\n",
    "        self.model = model\n",
    "        "
   ]
  },
  {
   "cell_type": "code",
   "execution_count": 12,
   "metadata": {},
   "outputs": [
    {
     "name": "stdout",
     "output_type": "stream",
     "text": [
      "Epoch 000/020 | Loss 0.1632 | Win/lose count 1.5/1.0 (0.5)\n",
      "Epoch 001/020 | Loss 0.0063 | Win/lose count 2.0/5.0 (-3.0)\n",
      "Epoch 002/020 | Loss 0.0064 | Win/lose count 4.0/5.0 (-1.0)\n",
      "Epoch 003/020 | Loss 0.0022 | Win/lose count 1.0/2.0 (-1.0)\n",
      "Epoch 004/020 | Loss 0.0028 | Win/lose count 2.5/0 (2.5)\n",
      "Epoch 005/020 | Loss 0.0128 | Win/lose count 2.0/2.0 (0.0)\n",
      "Epoch 006/020 | Loss 0.0729 | Win/lose count 2.0/3.0 (-1.0)\n",
      "Epoch 007/020 | Loss 0.0164 | Win/lose count 1.5/3.0 (-1.5)\n",
      "Epoch 008/020 | Loss 0.0227 | Win/lose count 2.0/3.0 (-1.0)\n",
      "Epoch 009/020 | Loss 0.0045 | Win/lose count 1.5/1.0 (0.5)\n",
      "Epoch 010/020 | Loss 0.0069 | Win/lose count 1.0/2.0 (-1.0)\n",
      "Epoch 011/020 | Loss 0.0246 | Win/lose count 0.5/3.0 (-2.5)\n",
      "Epoch 012/020 | Loss 0.0551 | Win/lose count 2.0/2.0 (0.0)\n",
      "Epoch 013/020 | Loss 0.0234 | Win/lose count 1.5/1.0 (0.5)\n",
      "Epoch 014/020 | Loss 0.0065 | Win/lose count 2.0/2.0 (0.0)\n",
      "Epoch 015/020 | Loss 0.0161 | Win/lose count 3.0/1.0 (2.0)\n",
      "Epoch 016/020 | Loss 0.0380 | Win/lose count 3.0/4.0 (-1.0)\n",
      "Epoch 017/020 | Loss 0.0062 | Win/lose count 1.5/1.0 (0.5)\n",
      "Epoch 018/020 | Loss 0.0042 | Win/lose count 2.0/3.0 (-1.0)\n",
      "Epoch 019/020 | Loss 0.0008 | Win/lose count 1.0/1.0 (0.0)\n"
     ]
    },
    {
     "data": {
      "text/html": [
       "<video alt=\"test\" controls>\n",
       "                <source src=\"data:video/mp4;base64,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\" type=\"video/mp4\" />\n",
       "             </video>"
      ],
      "text/plain": [
       "<IPython.core.display.HTML object>"
      ]
     },
     "execution_count": 12,
     "metadata": {},
     "output_type": "execute_result"
    }
   ],
   "source": [
    "epochs_train = 20\n",
    "\n",
    "env = Environment(grid_size=size, max_time=T, temperature=0.3)\n",
    "agent = DQN_FC(size, lr=.001, epsilon = 0.1, memory_size=2000, batch_size = 32)\n",
    "train(agent, env, epochs_train, prefix='fc_train')\n",
    "HTML(display_videos('fc_train20.mp4'))"
   ]
  },
  {
   "cell_type": "markdown",
   "metadata": {},
   "source": [
    "***\n",
    "***\n",
    "__Question 8__ Implement the DQN training algorithm using a CNN (for example, 2 convolutional layers and one final fully connected layer)."
   ]
  },
  {
   "cell_type": "code",
   "execution_count": 13,
   "metadata": {},
   "outputs": [],
   "source": [
    "class DQN_CNN(DQN):\n",
    "    def __init__(self, *args,lr=0.1,**kwargs):\n",
    "        super(DQN_CNN, self).__init__(*args,**kwargs)\n",
    "        \n",
    "        model = Sequential()\n",
    "        model.add(Conv2D(filters=32, kernel_size=2, activation=\"relu\", padding=\"valid\", input_shape=(5, 5, self.n_state)))\n",
    "        model.add(Conv2D(filters=16, kernel_size=2, activation=\"relu\"))\n",
    "        model.add(Flatten())\n",
    "        model.add(Dense(4, activation=None))\n",
    "        \n",
    "        model.compile(loss='mse', optimizer=Adam(lr=lr))\n",
    "        self.model = model"
   ]
  },
  {
   "cell_type": "code",
   "execution_count": 14,
   "metadata": {},
   "outputs": [
    {
     "name": "stdout",
     "output_type": "stream",
     "text": [
      "Epoch 000/020 | Loss 0.0076 | Win/lose count 3.5/3.0 (0.5)\n",
      "Epoch 001/020 | Loss 0.0051 | Win/lose count 3.5/2.0 (1.5)\n",
      "Epoch 002/020 | Loss 0.0045 | Win/lose count 1.5/4.0 (-2.5)\n",
      "Epoch 003/020 | Loss 0.0012 | Win/lose count 4.0/0 (4.0)\n",
      "Epoch 004/020 | Loss 0.0059 | Win/lose count 1.5/3.0 (-1.5)\n",
      "Epoch 005/020 | Loss 0.0073 | Win/lose count 1.0/1.0 (0.0)\n",
      "Epoch 006/020 | Loss 0.0025 | Win/lose count 4.0/2.0 (2.0)\n",
      "Epoch 007/020 | Loss 0.0050 | Win/lose count 0/3.0 (-3.0)\n",
      "Epoch 008/020 | Loss 0.1220 | Win/lose count 1.5/4.0 (-2.5)\n",
      "Epoch 009/020 | Loss 0.0856 | Win/lose count 2.0/2.0 (0.0)\n",
      "Epoch 010/020 | Loss 0.0050 | Win/lose count 0.5/8.0 (-7.5)\n",
      "Epoch 011/020 | Loss 0.0096 | Win/lose count 1.5/2.0 (-0.5)\n",
      "Epoch 012/020 | Loss 0.0112 | Win/lose count 2.5/1.0 (1.5)\n",
      "Epoch 013/020 | Loss 0.0016 | Win/lose count 2.5/4.0 (-1.5)\n",
      "Epoch 014/020 | Loss 0.0096 | Win/lose count 2.5/1.0 (1.5)\n",
      "Epoch 015/020 | Loss 0.0070 | Win/lose count 2.5/3.0 (-0.5)\n",
      "Epoch 016/020 | Loss 0.0101 | Win/lose count 1.0/4.0 (-3.0)\n",
      "Epoch 017/020 | Loss 0.0499 | Win/lose count 1.5/4.0 (-2.5)\n",
      "Epoch 018/020 | Loss 0.0093 | Win/lose count 1.0/3.0 (-2.0)\n",
      "Epoch 019/020 | Loss 0.0055 | Win/lose count 3.5/0 (3.5)\n"
     ]
    },
    {
     "data": {
      "text/html": [
       "<video alt=\"test\" controls>\n",
       "                <source src=\"data:video/mp4;base64,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\" type=\"video/mp4\" />\n",
       "             </video>"
      ],
      "text/plain": [
       "<IPython.core.display.HTML object>"
      ]
     },
     "execution_count": 14,
     "metadata": {},
     "output_type": "execute_result"
    }
   ],
   "source": [
    "env = Environment(grid_size=size, max_time=T, temperature=0.3)\n",
    "agent = DQN_CNN(size, lr=.001, epsilon = 0.1, memory_size=2000, batch_size = 32)\n",
    "train(agent,env,epochs_train,prefix='cnn_train')\n",
    "HTML(display_videos('cnn_train20.mp4'))"
   ]
  },
  {
   "cell_type": "markdown",
   "metadata": {},
   "source": [
    "***\n",
    "***\n",
    "__Question 9__ Test both algorithms and compare their performances. Which issue(s) do you observe? Observe also different behaviors by changing the temperature."
   ]
  },
  {
   "cell_type": "code",
   "execution_count": 15,
   "metadata": {},
   "outputs": [
    {
     "name": "stdout",
     "output_type": "stream",
     "text": [
      "Test of the CNN\n",
      "Win/lose count 1.5/1.0. Average score (0.5)\n",
      "Win/lose count 4.5/3.0. Average score (1.0)\n",
      "Win/lose count 2.5/4.0. Average score (0.16666666666666666)\n",
      "Win/lose count 1.5/0. Average score (0.5)\n",
      "Win/lose count 2.5/1.0. Average score (0.7)\n",
      "Win/lose count 3.0/2.0. Average score (0.75)\n",
      "Win/lose count 3.0/1.0. Average score (0.9285714285714286)\n",
      "Win/lose count 1.5/1.0. Average score (0.875)\n",
      "Win/lose count 1.5/3.0. Average score (0.6111111111111112)\n",
      "Win/lose count 1.0/2.0. Average score (0.45)\n",
      "Win/lose count 1.0/2.0. Average score (0.3181818181818182)\n",
      "Win/lose count 1.0/0. Average score (0.375)\n",
      "Win/lose count 2.5/1.0. Average score (0.46153846153846156)\n",
      "Win/lose count 1.5/1.0. Average score (0.4642857142857143)\n",
      "Win/lose count 1.0/3.0. Average score (0.3)\n",
      "Win/lose count 2.5/3.0. Average score (0.25)\n",
      "Win/lose count 3.0/0. Average score (0.4117647058823529)\n",
      "Win/lose count 1.5/1.0. Average score (0.4166666666666667)\n",
      "Win/lose count 1.5/3.0. Average score (0.3157894736842105)\n",
      "Win/lose count 0.5/3.0. Average score (0.175)\n",
      "Final score: 0.175\n",
      "Test of the FC\n",
      "Win/lose count 1.0/1.0. Average score (0.0)\n",
      "Win/lose count 2.5/4.0. Average score (-0.75)\n",
      "Win/lose count 4.0/2.0. Average score (0.16666666666666666)\n",
      "Win/lose count 2.0/1.0. Average score (0.375)\n",
      "Win/lose count 1.0/4.0. Average score (-0.3)\n",
      "Win/lose count 0.5/3.0. Average score (-0.6666666666666666)\n",
      "Win/lose count 1.0/2.0. Average score (-0.7142857142857143)\n",
      "Win/lose count 2.0/2.0. Average score (-0.625)\n",
      "Win/lose count 0.5/4.0. Average score (-0.9444444444444444)\n",
      "Win/lose count 3.0/4.0. Average score (-0.95)\n",
      "Win/lose count 1.5/3.0. Average score (-1.0)\n",
      "Win/lose count 1.0/3.0. Average score (-1.0833333333333333)\n",
      "Win/lose count 3.0/2.0. Average score (-0.9230769230769231)\n",
      "Win/lose count 2.5/1.0. Average score (-0.75)\n",
      "Win/lose count 1.0/3.0. Average score (-0.8333333333333334)\n",
      "Win/lose count 3.0/3.0. Average score (-0.78125)\n",
      "Win/lose count 1.5/1.0. Average score (-0.7058823529411765)\n",
      "Win/lose count 0/4.0. Average score (-0.8888888888888888)\n",
      "Win/lose count 1.5/3.0. Average score (-0.9210526315789473)\n",
      "Win/lose count 2.5/1.0. Average score (-0.8)\n",
      "Final score: -0.8\n"
     ]
    }
   ],
   "source": [
    "epochs_test = 20\n",
    "\n",
    "env = Environment(grid_size=size, max_time=T,temperature=0.3)\n",
    "agent_cnn = DQN_CNN(size, lr=.001, epsilon = 0.1, memory_size=2000, batch_size = 32)\n",
    "agent_cnn.load(name_weights='cnn_trainmodel.h5',name_model='cnn_trainmodel.json')\n",
    "\n",
    "agent_fc = DQN_FC(size, lr=.001, epsilon = 0.1, memory_size=2000, batch_size = 32)\n",
    "agent_cnn.load(name_weights='fc_trainmodel.h5',name_model='fc_trainmodel.json')\n",
    "print('Test of the CNN')\n",
    "test(agent_cnn,env,epochs_test,prefix='cnn_test')\n",
    "print('Test of the FC')\n",
    "test(agent_fc,env,epochs_test,prefix='fc_test')"
   ]
  },
  {
   "cell_type": "code",
   "execution_count": 16,
   "metadata": {},
   "outputs": [
    {
     "data": {
      "text/html": [
       "<video alt=\"test\" controls>\n",
       "                <source src=\"data:video/mp4;base64,AAAAIGZ0eXBpc29tAAACAGlzb21pc28yYXZjMW1wNDEAAAAIZnJlZQAAFWdtZGF0AAACrQYF//+p3EXpvebZSLeWLNgg2SPu73gyNjQgLSBjb3JlIDE0OCByMjY0MyA1YzY1NzA0IC0gSC4yNjQvTVBFRy00IEFWQyBjb2RlYyAtIENvcHlsZWZ0IDIwMDMtMjAxNSAtIGh0dHA6Ly93d3cudmlkZW9sYW4ub3JnL3gyNjQuaHRtbCAtIG9wdGlvbnM6IGNhYmFjPTEgcmVmPTMgZGVibG9jaz0xOjA6MCBhbmFseXNlPTB4MzoweDExMyBtZT1oZXggc3VibWU9NyBwc3k9MSBwc3lfcmQ9MS4wMDowLjAwIG1peGVkX3JlZj0xIG1lX3JhbmdlPTE2IGNocm9tYV9tZT0xIHRyZWxsaXM9MSA4eDhkY3Q9MSBjcW09MCBkZWFkem9uZT0yMSwxMSBmYXN0X3Bza2lwPTEgY2hyb21hX3FwX29mZnNldD00IHRocmVhZHM9OCBsb29rYWhlYWRfdGhyZWFkcz0xIHNsaWNlZF90aHJlYWRzPTAgbnI9MCBkZWNpbWF0ZT0xIGludGVybGFjZWQ9MCBibHVyYXlfY29tcGF0PTAgY29uc3RyYWluZWRfaW50cmE9MCBiZnJhbWVzPTMgYl9weXJhbWlkPTIgYl9hZGFwdD0xIGJfYmlhcz0wIGRpcmVjdD0xIHdlaWdodGI9MSBvcGVuX2dvcD0wIHdlaWdodHA9MiBrZXlpbnQ9MjUwIGtleWludF9taW49MjUgc2NlbmVjdXQ9NDAgaW50cmFfcmVmcmVzaD0wIHJjX2xvb2thaGVhZD00MCByYz1jcmYgbWJ0cmVlPTEgY3JmPTIzLjAgcWNvbXA9MC42MCBxcG1pbj0wIHFwbWF4PTY5IHFwc3RlcD00IGlwX3JhdGlvPTEuNDAgYXE9MToxLjAwAIAAAAL/ZYiEADf//vaH+BTZWBO6f/0/4LrOnzl/nbABNNgBSG5gp/w1NF8Cktv/wKZbHk66fMPx/E/CmaiSUruX//Kb/4Oge0Dl528mId+DqRLtfyqsBCiRT/e/ae2eGCZFCyG1ndCHIYAbqbh+jjPpoax+BtDls0QjfQ/ZAs5fHpN/BM1FesYZ8JjeekfBBAh/YgIxZ3S5WXAOCU9zxYuKkx2mDKiYqebVLuSbHEfXSX89ZzuyU5jiGwPSn5iFBBHIn0r9+Ke+ws+Vb6yVa8SYT4hqnr0ZA89mx6jvIumOpBuarpyR/+EJGA+u+GWaxRXLxewhZkqpetoeY8T3gT7kg9yzrv41DuEMDdS1/qsQSYgPi+ckdJHuUYW3V92YRnSVCoLe9ucgIJDPHQI+WisWJzjDPtSxw6BLPdsl8DvbpxL8cUuMHKfY7KhmZF8m6NX4aWfeZfjLoVqvpZnWYbWgD9E0K4pDODgd7buJptnAbUruLrzZ4QfJr94rewiq5wgjC9r3XOIn6OJmafBWLYU2cew57NaIh0FPBdICESVn+6VZOh7OzhKIWnnmgr7pgrIULHSwUecUfTfofDw7MK4vf7KQrXD3lZ2ju2cbGkkWY/XJKVJ0kFJ8yNhnqTa1ZNtm0jlVTZxBPg/hftdDMRZI9SZvZ+UriNWCYVjbbefhGUoSax1bBdls6+2oV67ZjQS6WIyZHBZIpEbz2DAq+O17rSJB8mfayS6FlyTAWQhRyPlyCEgM+Moj0oJ5B/N/50BqzT9u05oQi16jZSRh1ZipOhQMDywK+5dWx8xOxbUtq3pRswo+vXVRhjkXo81uMVKQzNbQP/QKFM6TCQYTRg+tTViUlC08I721YuOouNjvvWXSYVvPHdK3IkWdlD8HLrXUpPZyLdaNG6FJWCoEh6GO0k0U0bcOSUBSDrgAAujfLwyMdQqXDJeEofhWl5uGNzDyaXDE5Guh1THrmRzFwkb0gtdSVcLf9Xn9HzYyYffogbGs+XODOVHSL3uUCmQAFHxAImEAAAATQZohbEN//qeEARR1rNr//EVRSQAAABhBmkI8IZMphDv//qmWAIz9HNLOjqeRR8EAAAAWQZpmSeEPJlMCHf/+qZYAhCLDdGJHpAAAAA5BnoRFETwv/wCfMqA3oQAAABABnqN0Qr8A2mcnEdl2VNSBAAAAEAGepWpCvwFaja7rIYcjfcEAAAATQZqqSahBaJlMCHf//qmWAACVgQAAAAxBnshFESwv/wAAsoAAAAAQAZ7ndEK/AVroBz+tA5G+4AAAABABnulqQr8BWo2u6yGHI33BAAAAE0Ga7kmoQWyZTAh3//6plgAAlYAAAAAMQZ8MRRUsL/8AALKAAAAAEAGfK3RCvwFa6Ac/rQORvuEAAAAQAZ8takK/AVqNrushhyN9wQAAABNBmzJJqEFsmUwId//+qZYAAJWBAAAADEGfUEUVLC//AACygAAAABABn290Qr8BWugHP60Dkb7gAAAAEAGfcWpCvwFaja7rIYcjfcEAAAATQZt2SahBbJlMCHf//qmWAACVgAAAAAxBn5RFFSwv/wAAsoAAAAAQAZ+zdEK/AVroBz+tA5G+4QAAABABn7VqQr8BWo2u6yGHI33AAAAAE0GbukmoQWyZTAh3//6plgAAlYEAAAAMQZ/YRRUsL/8AALKBAAAAEAGf93RCvwFa6Ac/rQORvuAAAAAQAZ/5akK/AVqNrushhyN9wQAAABNBm/5JqEFsmUwId//+qZYAAJWAAAAADEGeHEUVLC//AACygQAAABABnjt0Qr8BWugHP60Dkb7hAAAAEAGePWpCvwFaja7rIYcjfcAAAAATQZoiSahBbJlMCHf//qmWAACVgAAAAAxBnkBFFSwv/wAAsoEAAAAQAZ5/dEK/AVroBz+tA5G+4AAAABABnmFqQr8BWo2u6yGHI33BAAAAE0GaZkmoQWyZTAh3//6plgAAlYAAAAAMQZ6ERRUsL/8AALKBAAAAEAGeo3RCvwFa6Ac/rQORvuEAAAAQAZ6lakK/AVqNrushhyN9wQAAABNBmqpJqEFsmUwId//+qZYAAJWBAAAADEGeyEUVLC//AACygAAAABABnud0Qr8BWugHP60Dkb7gAAAAEAGe6WpCvwFaja7rIYcjfcEAAAATQZruSahBbJlMCHf//qmWAACVgAAAAAxBnwxFFSwv/wAAsoAAAAAQAZ8rdEK/AVroBz+tA5G+4QAAABABny1qQr8BWo2u6yGHI33BAAAAE0GbMkmoQWyZTAh3//6plgAAlYEAAAAMQZ9QRRUsL/8AALKAAAAAEAGfb3RCvwFa6Ac/rQORvuAAAAAQAZ9xakK/AVqNrushhyN9wQAAABNBm3ZJqEFsmUwId//+qZYAAJWAAAAADEGflEUVLC//AACygAAAABABn7N0Qr8BWugHP60Dkb7hAAAAEAGftWpCvwFaja7rIYcjfcAAAAATQZu6SahBbJlMCHf//qmWAACVgQAAAAxBn9hFFSwv/wAAsoEAAAAQAZ/3dEK/AVroBz+tA5G+4AAAABABn/lqQr8BWo2u6yGHI33BAAAAE0Gb/kmoQWyZTAh3//6plgAAlYAAAAAMQZ4cRRUsL/8AALKBAAAAEAGeO3RCvwFa6Ac/rQORvuEAAAAQAZ49akK/AVqNrushhyN9wAAAABNBmiJJqEFsmUwId//+qZYAAJWAAAAADEGeQEUVLC//AACygQAAABABnn90Qr8BWugHP60Dkb7gAAAAEAGeYWpCvwFaja7rIYcjfcEAAAATQZpmSahBbJlMCHf//qmWAACVgAAAAAxBnoRFFSwv/wAAsoEAAAAQAZ6jdEK/AVroBz+tA5G+4QAAABABnqVqQr8BWo2u6yGHI33BAAAAE0GaqkmoQWyZTAh3//6plgAAlYEAAAAMQZ7IRRUsL/8AALKAAAAAEAGe53RCvwFa6Ac/rQORvuAAAAAQAZ7pakK/AVqNrushhyN9wQAAABNBmu5JqEFsmUwId//+qZYAAJWAAAAADEGfDEUVLC//AACygAAAABABnyt0Qr8BWugHP60Dkb7hAAAAEAGfLWpCvwFaja7rIYcjfcEAAAATQZsySahBbJlMCHf//qmWAACVgQAAAAxBn1BFFSwv/wAAsoAAAAAQAZ9vdEK/AVroBz+tA5G+4AAAABABn3FqQr8BWo2u6yGHI33BAAAAE0GbdkmoQWyZTAh3//6plgAAlYAAAAAMQZ+URRUsL/8AALKAAAAAEAGfs3RCvwFa6Ac/rQORvuEAAAAQAZ+1akK/AVqNrushhyN9wAAAABNBm7pJqEFsmUwId//+qZYAAJWBAAAADEGf2EUVLC//AACygQAAABABn/d0Qr8BWugHP60Dkb7gAAAAEAGf+WpCvwFaja7rIYcjfcEAAAATQZv+SahBbJlMCHf//qmWAACVgAAAAAxBnhxFFSwv/wAAsoEAAAAQAZ47dEK/AVroBz+tA5G+4QAAABABnj1qQr8BWo2u6yGHI33AAAAAE0GaIkmoQWyZTAh3//6plgAAlYAAAAAMQZ5ARRUsL/8AALKBAAAAEAGef3RCvwFa6Ac/rQORvuAAAAAQAZ5hakK/AVqNrushhyN9wQAAABNBmmZJqEFsmUwId//+qZYAAJWAAAAADEGehEUVLC//AACygQAAABABnqN0Qr8BWugHP60Dkb7hAAAAEAGepWpCvwFaja7rIYcjfcEAAAATQZqqSahBbJlMCHf//qmWAACVgQAAAAxBnshFFSwv/wAAsoAAAAAQAZ7ndEK/AVroBz+tA5G+4AAAABABnulqQr8BWo2u6yGHI33BAAAAE0Ga7kmoQWyZTAh3//6plgAAlYAAAAAMQZ8MRRUsL/8AALKAAAAAEAGfK3RCvwFa6Ac/rQORvuEAAAAQAZ8takK/AVqNrushhyN9wQAAABNBmzJJqEFsmUwId//+qZYAAJWBAAAADEGfUEUVLC//AACygAAAABABn290Qr8BWugHP60Dkb7gAAAAEAGfcWpCvwFaja7rIYcjfcEAAAATQZt2SahBbJlMCHf//qmWAACVgAAAAAxBn5RFFSwv/wAAsoAAAAAQAZ+zdEK/AVroBz+tA5G+4QAAABABn7VqQr8BWo2u6yGHI33AAAAAE0GbukmoQWyZTAh3//6plgAAlYEAAAAMQZ/YRRUsL/8AALKBAAAAEAGf93RCvwFa6Ac/rQORvuAAAAAQAZ/5akK/AVqNrushhyN9wQAAABNBm/5JqEFsmUwId//+qZYAAJWAAAAADEGeHEUVLC//AACygQAAABABnjt0Qr8BWugHP60Dkb7hAAAAEAGePWpCvwFaja7rIYcjfcAAAAATQZoiSahBbJlMCHf//qmWAACVgAAAAAxBnkBFFSwv/wAAsoEAAAAQAZ5/dEK/AVroBz+tA5G+4AAAABABnmFqQr8BWo2u6yGHI33BAAAAE0GaZkmoQWyZTAh3//6plgAAlYAAAAAMQZ6ERRUsL/8AALKBAAAAEAGeo3RCvwFa6Ac/rQORvuEAAAAQAZ6lakK/AVqNrushhyN9wQAAABNBmqpJqEFsmUwId//+qZYAAJWBAAAADEGeyEUVLC//AACygAAAABABnud0Qr8BWugHP60Dkb7gAAAAEAGe6WpCvwFaja7rIYcjfcEAAAATQZruSahBbJlMCHf//qmWAACVgAAAAAxBnwxFFSwv/wAAsoAAAAAQAZ8rdEK/AVroBz+tA5G+4QAAABABny1qQr8BWo2u6yGHI33BAAAAE0GbMkmoQWyZTAh3//6plgAAlYEAAAAMQZ9QRRUsL/8AALKAAAAAEAGfb3RCvwFa6Ac/rQORvuAAAAAQAZ9xakK/AVqNrushhyN9wQAAABNBm3ZJqEFsmUwId//+qZYAAJWAAAAADEGflEUVLC//AACygAAAABABn7N0Qr8BWugHP60Dkb7hAAAAEAGftWpCvwFaja7rIYcjfcAAAAATQZu6SahBbJlMCHf//qmWAACVgQAAAAxBn9hFFSwv/wAAsoEAAAAQAZ/3dEK/AVroBz+tA5G+4AAAABABn/lqQr8BWo2u6yGHI33BAAAAE0Gb/kmoQWyZTAh3//6plgAAlYAAAAAMQZ4cRRUsL/8AALKBAAAAEAGeO3RCvwFa6Ac/rQORvuEAAAAQAZ49akK/AVqNrushhyN9wAAAABNBmiJJqEFsmUwId//+qZYAAJWAAAAADEGeQEUVLC//AACygQAAABABnn90Qr8BWugHP60Dkb7gAAAAEAGeYWpCvwFaja7rIYcjfcEAAAATQZpmSahBbJlMCHf//qmWAACVgAAAAAxBnoRFFSwv/wAAsoEAAAAQAZ6jdEK/AVroBz+tA5G+4QAAABABnqVqQr8BWo2u6yGHI33BAAAAE0GaqkmoQWyZTAh3//6plgAAlYEAAAAMQZ7IRRUsL/8AALKAAAAAEAGe53RCvwFa6Ac/rQORvuAAAAAQAZ7pakK/AVqNrushhyN9wQAAABNBmu5JqEFsmUwId//+qZYAAJWAAAAADEGfDEUVLC//AACygAAAABABnyt0Qr8BWugHP60Dkb7hAAAAEAGfLWpCvwFaja7rIYcjfcEAAAATQZsySahBbJlMCHf//qmWAACVgQAAAAxBn1BFFSwv/wAAsoAAAAAQAZ9vdEK/AVroBz+tA5G+4AAAABABn3FqQr8BWo2u6yGHI33BAAAAE0GbdkmoQWyZTAh3//6plgAAlYAAAAAMQZ+URRUsL/8AALKAAAAAEAGfs3RCvwFa6Ac/rQORvuEAAAAQAZ+1akK/AVqNrushhyN9wAAAABNBm7pJqEFsmUwId//+qZYAAJWBAAAADEGf2EUVLC//AACygQAAABABn/d0Qr8BWugHP60Dkb7gAAAAEAGf+WpCvwFaja7rIYcjfcEAAAATQZv+SahBbJlMCHf//qmWAACVgAAAAAxBnhxFFSwv/wAAsoEAAAAQAZ47dEK/AVroBz+tA5G+4QAAABABnj1qQr8BWo2u6yGHI33AAAAAEkGaIkmoQWyZTAhv//6nhAABJwAAAAxBnkBFFSwv/wAAsoEAAAAQAZ5/dEK/AVroBz+tA5G+4AAAABABnmFqQr8BWo2u6yGHI33BAAAAEkGaZkmoQWyZTAhn//6eEAAEfAAAAAxBnoRFFSwv/wAAsoEAAAAQAZ6jdEK/AVroBz+tA5G+4QAAABABnqVqQr8BWo2u6yGHI33BAAAAGkGaqUuoQhBbJEYIKAfyAf2HgCFf/jhAABFxAAAAIEGeyEIV/wKvY+1BxN2qw0km5aqGByy1u80qIJosYTcGAAAAEAGe52kQrwFawdd1fju/ZeAAAAx5bW9vdgAAAGxtdmhkAAAAAAAAAAAAAAAAAAAD6AAAH5AAAQAAAQAAAAAAAAAAAAAAAAEAAAAAAAAAAAAAAAAAAAABAAAAAAAAAAAAAAAAAABAAAAAAAAAAAAAAAAAAAAAAAAAAAAAAAAAAAAAAAAAAgAAC6N0cmFrAAAAXHRraGQAAAADAAAAAAAAAAAAAAABAAAAAAAAH5AAAAAAAAAAAAAAAAAAAAAAAAEAAAAAAAAAAAAAAAAAAAABAAAAAAAAAAAAAAAAAABAAAAAARAAAAEQAAAAAAAkZWR0cwAAABxlbHN0AAAAAAAAAAEAAB+QAAAEAAABAAAAAAsbbWRpYQAAACBtZGhkAAAAAAAAAAAAAAAAAAAyAAABlABVxAAAAAAALWhkbHIAAAAAAAAAAHZpZGUAAAAAAAAAAAAAAABWaWRlb0hhbmRsZXIAAAAKxm1pbmYAAAAUdm1oZAAAAAEAAAAAAAAAAAAAACRkaW5mAAAAHGRyZWYAAAAAAAAAAQAAAAx1cmwgAAAAAQAACoZzdGJsAAAAlnN0c2QAAAAAAAAAAQAAAIZhdmMxAAAAAAAAAAEAAAAAAAAAAAAAAAAAAAAAARABEABIAAAASAAAAAAAAAABAAAAAAAAAAAAAAAAAAAAAAAAAAAAAAAAAAAAAAAAAAAAGP//AAAAMGF2Y0MB9AAN/+EAF2f0AA2RmygiEdCAAAADAIAAABkHihTLAQAGaOvjxEhEAAAAGHN0dHMAAAAAAAAAAQAAAMoAAAIAAAAAFHN0c3MAAAAAAAAAAQAAAAEAAAZQY3R0cwAAAAAAAADIAAAAAwAABAAAAAABAAAKAAAAAAEAAAQAAAAAAQAAAAAAAAABAAACAAAAAAEAAAoAAAAAAQAABAAAAAABAAAAAAAAAAEAAAIAAAAAAQAACgAAAAABAAAEAAAAAAEAAAAAAAAAAQAAAgAAAAABAAAKAAAAAAEAAAQAAAAAAQAAAAAAAAABAAACAAAAAAEAAAoAAAAAAQAABAAAAAABAAAAAAAAAAEAAAIAAAAAAQAACgAAAAABAAAEAAAAAAEAAAAAAAAAAQAAAgAAAAABAAAKAAAAAAEAAAQAAAAAAQAAAAAAAAABAAACAAAAAAEAAAoAAAAAAQAABAAAAAABAAAAAAAAAAEAAAIAAAAAAQAACgAAAAABAAAEAAAAAAEAAAAAAAAAAQAAAgAAAAABAAAKAAAAAAEAAAQAAAAAAQAAAAAAAAABAAACAAAAAAEAAAoAAAAAAQAABAAAAAABAAAAAAAAAAEAAAIAAAAAAQAACgAAAAABAAAEAAAAAAEAAAAAAAAAAQAAAgAAAAABAAAKAAAAAAEAAAQAAAAAAQAAAAAAAAABAAACAAAAAAEAAAoAAAAAAQAABAAAAAABAAAAAAAAAAEAAAIAAAAAAQAACgAAAAABAAAEAAAAAAEAAAAAAAAAAQAAAgAAAAABAAAKAAAAAAEAAAQAAAAAAQAAAAAAAAABAAACAAAAAAEAAAoAAAAAAQAABAAAAAABAAAAAAAAAAEAAAIAAAAAAQAACgAAAAABAAAEAAAAAAEAAAAAAAAAAQAAAgAAAAABAAAKAAAAAAEAAAQAAAAAAQAAAAAAAAABAAACAAAAAAEAAAoAAAAAAQAABAAAAAABAAAAAAAAAAEAAAIAAAAAAQAACgAAAAABAAAEAAAAAAEAAAAAAAAAAQAAAgAAAAABAAAKAAAAAAEAAAQAAAAAAQAAAAAAAAABAAACAAAAAAEAAAoAAAAAAQAABAAAAAABAAAAAAAAAAEAAAIAAAAAAQAACgAAAAABAAAEAAAAAAEAAAAAAAAAAQAAAgAAAAABAAAKAAAAAAEAAAQAAAAAAQAAAAAAAAABAAACAAAAAAEAAAoAAAAAAQAABAAAAAABAAAAAAAAAAEAAAIAAAAAAQAACgAAAAABAAAEAAAAAAEAAAAAAAAAAQAAAgAAAAABAAAKAAAAAAEAAAQAAAAAAQAAAAAAAAABAAACAAAAAAEAAAoAAAAAAQAABAAAAAABAAAAAAAAAAEAAAIAAAAAAQAACgAAAAABAAAEAAAAAAEAAAAAAAAAAQAAAgAAAAABAAAKAAAAAAEAAAQAAAAAAQAAAAAAAAABAAACAAAAAAEAAAoAAAAAAQAABAAAAAABAAAAAAAAAAEAAAIAAAAAAQAACgAAAAABAAAEAAAAAAEAAAAAAAAAAQAAAgAAAAABAAAKAAAAAAEAAAQAAAAAAQAAAAAAAAABAAACAAAAAAEAAAoAAAAAAQAABAAAAAABAAAAAAAAAAEAAAIAAAAAAQAACgAAAAABAAAEAAAAAAEAAAAAAAAAAQAAAgAAAAABAAAKAAAAAAEAAAQAAAAAAQAAAAAAAAABAAACAAAAAAEAAAoAAAAAAQAABAAAAAABAAAAAAAAAAEAAAIAAAAAAQAACgAAAAABAAAEAAAAAAEAAAAAAAAAAQAAAgAAAAABAAAKAAAAAAEAAAQAAAAAAQAAAAAAAAABAAACAAAAAAEAAAoAAAAAAQAABAAAAAABAAAAAAAAAAEAAAIAAAAAAQAACgAAAAABAAAEAAAAAAEAAAAAAAAAAQAAAgAAAAABAAAKAAAAAAEAAAQAAAAAAQAAAAAAAAABAAACAAAAAAEAAAoAAAAAAQAABAAAAAABAAAAAAAAAAEAAAIAAAAAAQAACgAAAAABAAAEAAAAAAEAAAAAAAAAAQAAAgAAAAABAAAKAAAAAAEAAAQAAAAAAQAAAAAAAAABAAACAAAAAAEAAAoAAAAAAQAABAAAAAABAAAAAAAAAAEAAAIAAAAAAQAACgAAAAABAAAEAAAAAAEAAAAAAAAAAQAAAgAAAAABAAAKAAAAAAEAAAQAAAAAAQAAAAAAAAABAAACAAAAAAEAAAgAAAAAAQAABAAAAAABAAAAAAAAABxzdHNjAAAAAAAAAAEAAAABAAAAygAAAAEAAAM8c3RzegAAAAAAAAAAAAAAygAABbQAAAAXAAAAHAAAABoAAAASAAAAFAAAABQAAAAXAAAAEAAAABQAAAAUAAAAFwAAABAAAAAUAAAAFAAAABcAAAAQAAAAFAAAABQAAAAXAAAAEAAAABQAAAAUAAAAFwAAABAAAAAUAAAAFAAAABcAAAAQAAAAFAAAABQAAAAXAAAAEAAAABQAAAAUAAAAFwAAABAAAAAUAAAAFAAAABcAAAAQAAAAFAAAABQAAAAXAAAAEAAAABQAAAAUAAAAFwAAABAAAAAUAAAAFAAAABcAAAAQAAAAFAAAABQAAAAXAAAAEAAAABQAAAAUAAAAFwAAABAAAAAUAAAAFAAAABcAAAAQAAAAFAAAABQAAAAXAAAAEAAAABQAAAAUAAAAFwAAABAAAAAUAAAAFAAAABcAAAAQAAAAFAAAABQAAAAXAAAAEAAAABQAAAAUAAAAFwAAABAAAAAUAAAAFAAAABcAAAAQAAAAFAAAABQAAAAXAAAAEAAAABQAAAAUAAAAFwAAABAAAAAUAAAAFAAAABcAAAAQAAAAFAAAABQAAAAXAAAAEAAAABQAAAAUAAAAFwAAABAAAAAUAAAAFAAAABcAAAAQAAAAFAAAABQAAAAXAAAAEAAAABQAAAAUAAAAFwAAABAAAAAUAAAAFAAAABcAAAAQAAAAFAAAABQAAAAXAAAAEAAAABQAAAAUAAAAFwAAABAAAAAUAAAAFAAAABcAAAAQAAAAFAAAABQAAAAXAAAAEAAAABQAAAAUAAAAFwAAABAAAAAUAAAAFAAAABcAAAAQAAAAFAAAABQAAAAXAAAAEAAAABQAAAAUAAAAFwAAABAAAAAUAAAAFAAAABcAAAAQAAAAFAAAABQAAAAXAAAAEAAAABQAAAAUAAAAFwAAABAAAAAUAAAAFAAAABcAAAAQAAAAFAAAABQAAAAXAAAAEAAAABQAAAAUAAAAFwAAABAAAAAUAAAAFAAAABcAAAAQAAAAFAAAABQAAAAXAAAAEAAAABQAAAAUAAAAFgAAABAAAAAUAAAAFAAAABYAAAAQAAAAFAAAABQAAAAeAAAAJAAAABQAAAAUc3RjbwAAAAAAAAABAAAAMAAAAGJ1ZHRhAAAAWm1ldGEAAAAAAAAAIWhkbHIAAAAAAAAAAG1kaXJhcHBsAAAAAAAAAAAAAAAALWlsc3QAAAAlqXRvbwAAAB1kYXRhAAAAAQAAAABMYXZmNTYuNDAuMTAx\" type=\"video/mp4\" />\n",
       "             </video>"
      ],
      "text/plain": [
       "<IPython.core.display.HTML object>"
      ]
     },
     "execution_count": 16,
     "metadata": {},
     "output_type": "execute_result"
    }
   ],
   "source": [
    "HTML(display_videos('cnn_test20.mp4'))"
   ]
  },
  {
   "cell_type": "code",
   "execution_count": 17,
   "metadata": {},
   "outputs": [
    {
     "data": {
      "text/html": [
       "<video alt=\"test\" controls>\n",
       "                <source src=\"data:video/mp4;base64,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\" type=\"video/mp4\" />\n",
       "             </video>"
      ],
      "text/plain": [
       "<IPython.core.display.HTML object>"
      ]
     },
     "execution_count": 17,
     "metadata": {},
     "output_type": "execute_result"
    }
   ],
   "source": [
    "HTML(display_videos('fc_test20.mp4'))"
   ]
  },
  {
   "cell_type": "markdown",
   "metadata": {},
   "source": [
    "***\n",
    "The CNN yields better results. However, the videos show that for both models the agent clearly does not explore the board correctly. It tends to quickly get stuck in loops.\n",
    "\n",
    "When letting the temperature vary I noticed that the CNN model stayed ahead of the FC one. When the temperature increases, so does the score of the agents. They also tend to explore more as the temperature gets higher.\n",
    "***"
   ]
  },
  {
   "cell_type": "markdown",
   "metadata": {},
   "source": [
    "***\n",
    "\n",
    "The algorithm tends to not explore the map which can be an issue. We propose two ideas in order to encourage exploration:\n",
    "1. Incorporating a decreasing $\\epsilon$-greedy exploration. You can use the method ```set_epsilon```\n",
    "2. Append via the environment a new state that describes if a cell has been visited or not\n",
    "\n",
    "***\n",
    "__Question 10__ Design a new ```train_explore``` function and environment class ```EnvironmentExploring``` to tackle the issue of exploration.\n",
    "\n"
   ]
  },
  {
   "cell_type": "code",
   "execution_count": 18,
   "metadata": {},
   "outputs": [],
   "source": [
    "def train_explore(agent,env,epoch,prefix=''):\n",
    "    # Number of won games\n",
    "    score = 0\n",
    "    loss = 0\n",
    "    \n",
    "    final_eps = 0.01\n",
    "    decr_eps = (agent.epsilon-final_eps)/epoch\n",
    "    \n",
    "    for e in range(epoch):\n",
    "        # At each epoch, we restart to a fresh game and get the initial state\n",
    "        state = env.reset()\n",
    "        # This assumes that the games will terminate\n",
    "        game_over = False\n",
    "\n",
    "        win = 0\n",
    "        lose = 0\n",
    "\n",
    "        while not game_over:\n",
    "            # The agent performs an action\n",
    "            action = agent.act(state)\n",
    "\n",
    "            # Apply an action to the environment, get the next state, the reward\n",
    "            # and if the games end\n",
    "            prev_state = state\n",
    "            state, reward, game_over = env.act(action, train=True)\n",
    "\n",
    "            # Update the counters\n",
    "            if reward > 0:\n",
    "                win = win + reward\n",
    "            if reward < 0:\n",
    "                lose = lose - reward\n",
    "\n",
    "            # Apply the reinforcement strategy\n",
    "            loss = agent.reinforce(prev_state, state,  action, reward, game_over)\n",
    "        \n",
    "        #Decrease epsilon\n",
    "        agent.set_epsilon(agent.epsilon-decr_eps)\n",
    "\n",
    "        # Save as a mp4\n",
    "        if e % 10 == 0:\n",
    "            env.draw(prefix+str(e))\n",
    "        \n",
    "        # Update stats\n",
    "        score += win-lose\n",
    "\n",
    "        print(\"Epoch {:03d}/{:03d} | Loss {:.4f} | Win/lose count {}/{} ({})\"\n",
    "              .format(e, epoch, loss, win, lose, win-lose))\n",
    "        agent.save(name_weights=prefix+'model.h5',name_model=prefix+'model.json')\n",
    "        \n",
    "class EnvironmentExploring(object):\n",
    "    def __init__(self, grid_size=10, max_time=500, temperature=0.1):\n",
    "        grid_size = grid_size + 4\n",
    "        self.grid_size = grid_size\n",
    "        self.max_time = max_time\n",
    "        self.temperature = temperature\n",
    "\n",
    "        #board on which one plays\n",
    "        self.board = np.zeros((grid_size,grid_size))\n",
    "        self.position = np.zeros((grid_size,grid_size))\n",
    "        self.malus_position = np.zeros((grid_size,grid_size))\n",
    "\n",
    "        # coordinate of the cat\n",
    "        self.x = 0\n",
    "        self.y = 1\n",
    "\n",
    "        # self time\n",
    "        self.t = 0\n",
    "\n",
    "        self.scale=16\n",
    "\n",
    "        self.to_draw = np.zeros((max_time+2, grid_size*self.scale, grid_size*self.scale, 3))\n",
    "\n",
    "\n",
    "    def draw(self,e):\n",
    "        skvideo.io.vwrite(str(e) + '.mp4', self.to_draw)\n",
    "\n",
    "    def get_frame(self,t):\n",
    "        b = np.zeros((self.grid_size,self.grid_size,3))+128\n",
    "        b[self.board>0,0] = 256\n",
    "        b[self.board < 0, 2] = 256\n",
    "        b[self.x,self.y,:]=256\n",
    "        b[-2:,:,:]=0\n",
    "        b[:,-2:,:]=0\n",
    "        b[:2,:,:]=0\n",
    "        b[:,:2,:]=0\n",
    "        \n",
    "        b =  cv2.resize(b, None, fx=self.scale, fy=self.scale, interpolation=cv2.INTER_NEAREST)\n",
    "\n",
    "        self.to_draw[t,:,:,:]=b\n",
    "\n",
    "\n",
    "    def act(self, action, train=False):\n",
    "        \"\"\"This function returns the new state, reward and decides if the\n",
    "        game ends.\"\"\"\n",
    "\n",
    "        self.get_frame(int(self.t))\n",
    "\n",
    "        self.position = np.zeros((self.grid_size, self.grid_size))\n",
    "\n",
    "        self.position[0:2,:]= -1\n",
    "        self.position[:,0:2] = -1\n",
    "        self.position[-2:, :] = -1\n",
    "        self.position[-2:, :] = -1\n",
    "\n",
    "        self.position[self.x, self.y] = 1\n",
    "        if action == 0:\n",
    "            if self.x == self.grid_size-3:\n",
    "                self.x = self.x-1\n",
    "            else:\n",
    "                self.x = self.x + 1\n",
    "        elif action == 1:\n",
    "            if self.x == 2:\n",
    "                self.x = self.x+1\n",
    "            else:\n",
    "                self.x = self.x-1\n",
    "        elif action == 2:\n",
    "            if self.y == self.grid_size - 3:\n",
    "                self.y = self.y - 1\n",
    "            else:\n",
    "                self.y = self.y + 1\n",
    "        elif action == 3:\n",
    "            if self.y == 2:\n",
    "                self.y = self.y + 1\n",
    "            else:\n",
    "                self.y = self.y - 1\n",
    "        else:\n",
    "            RuntimeError('Error: action not recognized')\n",
    "\n",
    "        self.t = self.t + 1\n",
    "        \n",
    "        reward = 0\n",
    "        if train:\n",
    "            reward += -self.malus_position[self.x, self.y]\n",
    "        self.malus_position[self.x, self.y] = 0.1\n",
    "\n",
    "        self.t = self.t + 1\n",
    "        reward += self.board[self.x, self.y]\n",
    "        self.board[self.x, self.y] = 0\n",
    "        game_over = self.t > self.max_time\n",
    "        state = np.concatenate((self.malus_position.reshape(self.grid_size, self.grid_size, 1),\n",
    "                self.board.reshape(self.grid_size, self.grid_size, 1),\n",
    "                self.position.reshape(self.grid_size, self.grid_size,1)), axis=2)\n",
    "        \n",
    "        state = state[self.x-2:self.x+3,self.y-2:self.y+3,:]\n",
    "        \n",
    "        return state, reward, game_over\n",
    "\n",
    "    def reset(self):\n",
    "        \"\"\"This function resets the game and returns the initial state\"\"\"\n",
    "\n",
    "        self.x = np.random.randint(3, self.grid_size-3, size=1)[0]\n",
    "        self.y = np.random.randint(3, self.grid_size-3, size=1)[0]\n",
    "        \n",
    "        self.malus_position = np.zeros((self.grid_size, self.grid_size))\n",
    "\n",
    "        bonus = 0.5*np.random.binomial(1,self.temperature,size=self.grid_size**2)\n",
    "        bonus = bonus.reshape(self.grid_size,self.grid_size)\n",
    "\n",
    "        malus = -1.0*np.random.binomial(1,self.temperature,size=self.grid_size**2)\n",
    "        malus = malus.reshape(self.grid_size, self.grid_size)\n",
    "\n",
    "        self.to_draw = np.zeros((self.max_time+2, self.grid_size*self.scale, self.grid_size*self.scale, 3))\n",
    "\n",
    "\n",
    "        malus[bonus>0]=0\n",
    "\n",
    "        self.board = bonus + malus\n",
    "\n",
    "        self.position = np.zeros((self.grid_size, self.grid_size))\n",
    "        self.position[0:2,:]= -1\n",
    "        self.position[:,0:2] = -1\n",
    "        self.position[-2:, :] = -1\n",
    "        self.position[-2:, :] = -1\n",
    "        self.board[self.x,self.y] = 0\n",
    "        self.t = 0\n",
    "\n",
    "        state = np.concatenate((self.malus_position.reshape(self.grid_size, self.grid_size,1),\n",
    "                                self.board.reshape(self.grid_size, self.grid_size,1),\n",
    "                        self.position.reshape(self.grid_size, self.grid_size,1)),axis=2)\n",
    "\n",
    "        state = state[self.x-2:self.x+3,self.y-2:self.y+3,:]\n",
    "        return state"
   ]
  },
  {
   "cell_type": "code",
   "execution_count": 19,
   "metadata": {},
   "outputs": [
    {
     "name": "stdout",
     "output_type": "stream",
     "text": [
      "Epoch 000/020 | Loss 0.0117 | Win/lose count 1.5/9.299999999999983 (-7.799999999999983)\n",
      "Epoch 001/020 | Loss 0.0034 | Win/lose count 0/11.499999999999979 (-11.499999999999979)\n",
      "Epoch 002/020 | Loss 0.5985 | Win/lose count 0.5/12.29999999999998 (-11.79999999999998)\n",
      "Epoch 003/020 | Loss 0.1636 | Win/lose count 1.5/9.499999999999982 (-7.999999999999982)\n",
      "Epoch 004/020 | Loss 0.0087 | Win/lose count 0.5/10.599999999999982 (-10.099999999999982)\n",
      "Epoch 005/020 | Loss 0.1422 | Win/lose count 1.0/10.89999999999998 (-9.89999999999998)\n",
      "Epoch 006/020 | Loss 0.0095 | Win/lose count 0/10.89999999999998 (-10.89999999999998)\n",
      "Epoch 007/020 | Loss 0.0175 | Win/lose count 1.0/11.499999999999979 (-10.499999999999979)\n",
      "Epoch 008/020 | Loss 0.0148 | Win/lose count 0.5/10.499999999999982 (-9.999999999999982)\n",
      "Epoch 009/020 | Loss 0.0079 | Win/lose count 1.5/10.499999999999979 (-8.999999999999979)\n",
      "Epoch 010/020 | Loss 0.0503 | Win/lose count 1.0/9.599999999999982 (-8.599999999999982)\n",
      "Epoch 011/020 | Loss 0.0052 | Win/lose count 0/10.89999999999998 (-10.89999999999998)\n",
      "Epoch 012/020 | Loss 0.0982 | Win/lose count 1.0/10.499999999999982 (-9.499999999999982)\n",
      "Epoch 013/020 | Loss 0.0379 | Win/lose count 1.0/11.399999999999983 (-10.399999999999983)\n",
      "Epoch 014/020 | Loss 0.0203 | Win/lose count 1.0/9.699999999999982 (-8.699999999999982)\n",
      "Epoch 015/020 | Loss 0.0030 | Win/lose count 0.5/10.799999999999978 (-10.299999999999978)\n",
      "Epoch 016/020 | Loss 0.0140 | Win/lose count 0/9.89999999999998 (-9.89999999999998)\n",
      "Epoch 017/020 | Loss 0.0055 | Win/lose count 0/9.799999999999981 (-9.799999999999981)\n",
      "Epoch 018/020 | Loss 0.0181 | Win/lose count 1.0/9.699999999999982 (-8.699999999999982)\n",
      "Epoch 019/020 | Loss 0.0045 | Win/lose count 0/12.699999999999973 (-12.699999999999973)\n"
     ]
    },
    {
     "data": {
      "text/html": [
       "<video alt=\"test\" controls>\n",
       "                <source src=\"data:video/mp4;base64,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\" type=\"video/mp4\" />\n",
       "             </video>"
      ],
      "text/plain": [
       "<IPython.core.display.HTML object>"
      ]
     },
     "execution_count": 19,
     "metadata": {},
     "output_type": "execute_result"
    }
   ],
   "source": [
    "# Training\n",
    "env = EnvironmentExploring(grid_size=size, max_time=T, temperature=0.3)\n",
    "agent = DQN_CNN(size, lr=.001, epsilon = 0.1, memory_size=2000, batch_size = 32,n_state=3)\n",
    "train_explore(agent, env, epochs_train, prefix='cnn_train_explore')\n",
    "HTML(display_videos('cnn_train_explore20.mp4'))"
   ]
  },
  {
   "cell_type": "code",
   "execution_count": 21,
   "metadata": {},
   "outputs": [
    {
     "name": "stdout",
     "output_type": "stream",
     "text": [
      "Win/lose count 0/0. Average score (0.0)\n",
      "Win/lose count 0.5/0. Average score (0.25)\n",
      "Win/lose count 0/1.0. Average score (-0.16666666666666666)\n",
      "Win/lose count 0/0. Average score (-0.125)\n",
      "Win/lose count 0/0. Average score (-0.1)\n",
      "Win/lose count 0.5/0. Average score (0.0)\n",
      "Win/lose count 0/0. Average score (0.0)\n",
      "Win/lose count 0/0. Average score (0.0)\n",
      "Win/lose count 0.5/1.0. Average score (-0.05555555555555555)\n",
      "Win/lose count 0/0. Average score (-0.05)\n",
      "Win/lose count 0/1.0. Average score (-0.13636363636363635)\n",
      "Win/lose count 0.5/0. Average score (-0.08333333333333333)\n",
      "Win/lose count 0/0. Average score (-0.07692307692307693)\n",
      "Win/lose count 0/0. Average score (-0.07142857142857142)\n",
      "Win/lose count 0/0. Average score (-0.06666666666666667)\n",
      "Win/lose count 0/1.0. Average score (-0.125)\n",
      "Win/lose count 0/1.0. Average score (-0.17647058823529413)\n",
      "Win/lose count 0/0. Average score (-0.16666666666666666)\n",
      "Win/lose count 0/0. Average score (-0.15789473684210525)\n",
      "Win/lose count 0/0. Average score (-0.15)\n",
      "Final score: -0.15\n"
     ]
    },
    {
     "data": {
      "text/html": [
       "<video alt=\"test\" controls>\n",
       "                <source src=\"data:video/mp4;base64,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\" type=\"video/mp4\" />\n",
       "             </video>"
      ],
      "text/plain": [
       "<IPython.core.display.HTML object>"
      ]
     },
     "execution_count": 21,
     "metadata": {},
     "output_type": "execute_result"
    }
   ],
   "source": [
    "# Evaluation\n",
    "test(agent,env,epochs_test,prefix='cnn_test_explore')\n",
    "HTML(display_videos('cnn_test_explore19.mp4'))"
   ]
  },
  {
   "cell_type": "markdown",
   "metadata": {},
   "source": [
    "***\n",
    "***\n",
    "__BONUS question__ Use the expert DQN from the previous question to generate some winning games. Train a model that mimicks its behavior. Compare the performances."
   ]
  },
  {
   "cell_type": "markdown",
   "metadata": {},
   "source": []
  },
  {
   "cell_type": "markdown",
   "metadata": {},
   "source": [
    "***"
   ]
  }
 ],
 "metadata": {
  "kernelspec": {
   "display_name": "Python 3",
   "language": "python",
   "name": "python3"
  },
  "language_info": {
   "codemirror_mode": {
    "name": "ipython",
    "version": 3
   },
   "file_extension": ".py",
   "mimetype": "text/x-python",
   "name": "python",
   "nbconvert_exporter": "python",
   "pygments_lexer": "ipython3",
   "version": "3.5.2"
  }
 },
 "nbformat": 4,
 "nbformat_minor": 2
}
